{
 "cells": [
  {
   "cell_type": "code",
   "execution_count": 9,
   "id": "f3b8fdc7",
   "metadata": {},
   "outputs": [],
   "source": [
    "from langchain_groq import ChatGroq\n",
    "from typing import Annotated\n",
    "from typing_extensions import TypedDict\n",
    "from langgraph.graph import StateGraph, START, END\n",
    "from langgraph.graph.message import add_messages\n",
    "from IPython.display import Image, display"
   ]
  },
  {
   "cell_type": "code",
   "execution_count": 10,
   "id": "f4fb0831",
   "metadata": {},
   "outputs": [],
   "source": [
    "groq_api_key = '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'\n",
    "llm = ChatGroq(groq_api_key=groq_api_key, model_name=\"Gemma2-9b-It\")"
   ]
  },
  {
   "cell_type": "code",
   "execution_count": 11,
   "id": "9f3edcf4",
   "metadata": {},
   "outputs": [],
   "source": [
    "class State(TypedDict):\n",
    "    messages: Annotated[list, add_messages]\n",
    "    sentiment: str\n",
    "\n",
    "# 1. Preprocessing Node\n",
    "def preprocess(state: State) -> State:\n",
    "    cleaned = state[\"messages\"][-1].content.strip()\n",
    "    state[\"messages\"][-1].content = cleaned\n",
    "    return state\n",
    "\n",
    "# 2. Sentiment Analysis Node\n",
    "def analyze_sentiment(state: State) -> State:\n",
    "    msg = state[\"messages\"][-1].content\n",
    "    state[\"sentiment\"] = \"positive\" if \"good\" in msg else \"neutral\"\n",
    "    return state\n",
    "\n",
    "# 3. Chatbot Node\n",
    "def chatbot(state: State) -> State:\n",
    "    return {\"messages\": llm.invoke(state['messages'])}\n",
    "\n",
    "# 4. Logging Node\n",
    "def logger(state: State) -> State:\n",
    "    print(f\"LOG: {state['messages'][-1].content}, Sentiment: {state.get('sentiment')}\")\n",
    "    return state"
   ]
  },
  {
   "cell_type": "code",
   "execution_count": 12,
   "id": "c5392224",
   "metadata": {},
   "outputs": [
    {
     "data": {
      "text/plain": [
       "<langgraph.graph.state.StateGraph at 0x14ee37b90>"
      ]
     },
     "execution_count": 12,
     "metadata": {},
     "output_type": "execute_result"
    }
   ],
   "source": [
    "# Build the graph\n",
    "builder = StateGraph(State)\n",
    "builder.add_node(\"preprocess\", preprocess)\n",
    "builder.add_node(\"analyze_sentiment\", analyze_sentiment)  # renamed\n",
    "builder.add_node(\"chatbot\", chatbot)\n",
    "builder.add_node(\"logger\", logger)"
   ]
  },
  {
   "cell_type": "code",
   "execution_count": 13,
   "id": "4343633f",
   "metadata": {},
   "outputs": [
    {
     "data": {
      "text/plain": [
       "<langgraph.graph.state.StateGraph at 0x14ee37b90>"
      ]
     },
     "execution_count": 13,
     "metadata": {},
     "output_type": "execute_result"
    }
   ],
   "source": [
    "# Define flow\n",
    "builder.add_edge(START, \"preprocess\")\n",
    "builder.add_edge(\"preprocess\", \"analyze_sentiment\")  # renamed\n",
    "builder.add_edge(\"analyze_sentiment\", \"chatbot\")     # renamed\n",
    "builder.add_edge(\"chatbot\", \"logger\")\n",
    "builder.add_edge(\"logger\", END)"
   ]
  },
  {
   "cell_type": "code",
   "execution_count": 14,
   "id": "d65994ea",
   "metadata": {},
   "outputs": [],
   "source": [
    "graph = builder.compile()"
   ]
  },
  {
   "cell_type": "code",
   "execution_count": 15,
   "id": "3a8eca3c",
   "metadata": {},
   "outputs": [],
   "source": [
    "# Draw the graph\n",
    "try:\n",
    "    display(Image(graph.get_graph().draw_mermaid_png()))\n",
    "except Exception:\n",
    "    pass"
   ]
  },
  {
   "cell_type": "code",
   "execution_count": 16,
   "id": "a1e16269",
   "metadata": {},
   "outputs": [
    {
     "name": "stdout",
     "output_type": "stream",
     "text": [
      "LOG: I agree! It's a clear and concise message. \n",
      "\n",
      "Is there anything else I can help you with? 😊  Perhaps you'd like to:\n",
      "\n",
      "* **Ask me a question** about anything at all.\n",
      "* **Give me a task** to complete, like writing a poem or summarizing a text.\n",
      "* **Have a conversation** on a topic of your interest.\n",
      "\n",
      "\n",
      "Let me know how I can be of service!\n",
      ", Sentiment: positive\n",
      "Final State: {'messages': [HumanMessage(content='This is a good test message.', additional_kwargs={}, response_metadata={}, id='44e431aa-b529-4149-8e47-42fc91ea6faa'), AIMessage(content=\"I agree! It's a clear and concise message. \\n\\nIs there anything else I can help you with? 😊  Perhaps you'd like to:\\n\\n* **Ask me a question** about anything at all.\\n* **Give me a task** to complete, like writing a poem or summarizing a text.\\n* **Have a conversation** on a topic of your interest.\\n\\n\\nLet me know how I can be of service!\\n\", additional_kwargs={}, response_metadata={'token_usage': {'completion_tokens': 94, 'prompt_tokens': 16, 'total_tokens': 110, 'completion_time': 0.170909091, 'prompt_time': 0.001253619, 'queue_time': 0.251317891, 'total_time': 0.17216271}, 'model_name': 'Gemma2-9b-It', 'system_fingerprint': 'fp_10c08bf97d', 'service_tier': 'on_demand', 'finish_reason': 'stop', 'logprobs': None}, id='run--7184c65e-5c58-469a-9ce8-4abb84633e2f-0', usage_metadata={'input_tokens': 16, 'output_tokens': 94, 'total_tokens': 110})], 'sentiment': 'positive'}\n",
      "Chatbot's response: I agree! It's a clear and concise message. \n",
      "\n",
      "Is there anything else I can help you with? 😊  Perhaps you'd like to:\n",
      "\n",
      "* **Ask me a question** about anything at all.\n",
      "* **Give me a task** to complete, like writing a poem or summarizing a text.\n",
      "* **Have a conversation** on a topic of your interest.\n",
      "\n",
      "\n",
      "Let me know how I can be of service!\n",
      "\n",
      "Detected Sentiment: positive\n",
      "LOG: Okay, I understand.\n",
      "\n",
      "Please let me know if I can be of further assistance. I'm ready for your next request! 😊  \n",
      ", Sentiment: neutral\n",
      "Final State 2: {'messages': [HumanMessage(content='This is a neutral message.', additional_kwargs={}, response_metadata={}, id='51f66538-673d-4912-b0a0-3c4aa283294c'), AIMessage(content=\"Okay, I understand.\\n\\nPlease let me know if I can be of further assistance. I'm ready for your next request! 😊  \\n\", additional_kwargs={}, response_metadata={'token_usage': {'completion_tokens': 32, 'prompt_tokens': 15, 'total_tokens': 47, 'completion_time': 0.058181818, 'prompt_time': 0.00125305, 'queue_time': 0.250919309, 'total_time': 0.059434868}, 'model_name': 'Gemma2-9b-It', 'system_fingerprint': 'fp_10c08bf97d', 'service_tier': 'on_demand', 'finish_reason': 'stop', 'logprobs': None}, id='run--0a5a5e69-a39c-457d-ab88-442c587ec9cd-0', usage_metadata={'input_tokens': 15, 'output_tokens': 32, 'total_tokens': 47})], 'sentiment': 'neutral'}\n",
      "Chatbot's response 2: Okay, I understand.\n",
      "\n",
      "Please let me know if I can be of further assistance. I'm ready for your next request! 😊  \n",
      "\n",
      "Detected Sentiment 2: neutral\n"
     ]
    }
   ],
   "source": [
    "# Invoke the graph\n",
    "input_message = \"This is a good test message.\"\n",
    "final_state = graph.invoke({\"messages\": (\"user\", input_message)})\n",
    "\n",
    "# Print the final state\n",
    "print(\"Final State:\", final_state)\n",
    "print(\"Chatbot's response:\", final_state['messages'][-1].content)\n",
    "print(\"Detected Sentiment:\", final_state['sentiment'])\n",
    "\n",
    "input_message_2 = \"This is a neutral message.\"\n",
    "final_state_2 = graph.invoke({\"messages\": (\"user\", input_message_2)})\n",
    "print(\"Final State 2:\", final_state_2)\n",
    "print(\"Chatbot's response 2:\", final_state_2['messages'][-1].content)\n",
    "print(\"Detected Sentiment 2:\", final_state_2['sentiment'])"
   ]
  }
 ],
 "metadata": {
  "kernelspec": {
   "display_name": "base",
   "language": "python",
   "name": "python3"
  },
  "language_info": {
   "codemirror_mode": {
    "name": "ipython",
    "version": 3
   },
   "file_extension": ".py",
   "mimetype": "text/x-python",
   "name": "python",
   "nbconvert_exporter": "python",
   "pygments_lexer": "ipython3",
   "version": "3.12.2"
  }
 },
 "nbformat": 4,
 "nbformat_minor": 5
}

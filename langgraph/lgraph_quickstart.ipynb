{
 "cells": [
  {
   "cell_type": "code",
   "execution_count": 27,
   "id": "1c3f4b98",
   "metadata": {},
   "outputs": [],
   "source": [
    "#pip install -U langgraph"
   ]
  },
  {
   "cell_type": "code",
   "execution_count": 28,
   "id": "c5f1a013",
   "metadata": {},
   "outputs": [],
   "source": [
    "from langgraph.graph import StateGraph, END\n",
    "from typing import TypedDict\n",
    "from IPython.display import Image, display"
   ]
  },
  {
   "cell_type": "code",
   "execution_count": 29,
   "id": "3470747f",
   "metadata": {},
   "outputs": [],
   "source": [
    "class MyState(TypedDict):\n",
    "    message: str\n",
    "\n",
    "# Define the start node\n",
    "def start_node(state: MyState) -> MyState:\n",
    "    print(\"Start node received:\", state[\"message\"])\n",
    "    # Process or pass the message to the end node\n",
    "    return {\"message\": state[\"message\"] + \" -> processed by start\"}\n",
    "\n",
    "# Define the end node\n",
    "def end_node(state: MyState) -> MyState:\n",
    "    print(\"End node received:\", state[\"message\"])\n",
    "    return state\n",
    "\n",
    "# Build the graph\n",
    "builder = StateGraph(MyState)\n",
    "\n",
    "\n",
    "# Define the end node\n",
    "def end_node(state: MyState) -> MyState:\n",
    "    print(\"End node received:\", state[\"message\"])\n",
    "    return state"
   ]
  },
  {
   "cell_type": "code",
   "execution_count": 30,
   "id": "2d390ef9",
   "metadata": {},
   "outputs": [],
   "source": [
    "# Build the graph\n",
    "builder = StateGraph(MyState)"
   ]
  },
  {
   "cell_type": "code",
   "execution_count": 31,
   "id": "c00d9666",
   "metadata": {},
   "outputs": [
    {
     "data": {
      "text/plain": [
       "<langgraph.graph.state.StateGraph at 0x14ed5b53ce0>"
      ]
     },
     "execution_count": 31,
     "metadata": {},
     "output_type": "execute_result"
    }
   ],
   "source": [
    "# Add nodes\n",
    "builder.add_node(\"start\", start_node)\n",
    "builder.add_node(\"end\", end_node)"
   ]
  },
  {
   "cell_type": "code",
   "execution_count": 32,
   "id": "98621eed",
   "metadata": {},
   "outputs": [
    {
     "data": {
      "text/plain": [
       "<langgraph.graph.state.StateGraph at 0x14ed5b53ce0>"
      ]
     },
     "execution_count": 32,
     "metadata": {},
     "output_type": "execute_result"
    }
   ],
   "source": [
    "# Define the flow\n",
    "builder.set_entry_point(\"start\")\n",
    "builder.add_edge(\"start\", \"end\")\n",
    "builder.add_edge(\"end\", END)  # END is a special marker for graph completion\n"
   ]
  },
  {
   "cell_type": "code",
   "execution_count": 33,
   "id": "96136c57",
   "metadata": {},
   "outputs": [
    {
     "name": "stdout",
     "output_type": "stream",
     "text": [
      "Start node received: Hello LangGraph\n",
      "End node received: Hello LangGraph -> processed by start\n",
      "Final result: Hello LangGraph -> processed by start\n"
     ]
    }
   ],
   "source": [
    "# Compile the graph\n",
    "graph = builder.compile()\n",
    "\n",
    "# Run the graph\n",
    "result = graph.invoke({\"message\": \"Hello LangGraph\"})\n",
    "print(\"Final result:\", result[\"message\"])"
   ]
  },
  {
   "cell_type": "code",
   "execution_count": null,
   "id": "80a7303f",
   "metadata": {},
   "outputs": [],
   "source": []
  }
 ],
 "metadata": {
  "kernelspec": {
   "display_name": "Python 3",
   "language": "python",
   "name": "python3"
  },
  "language_info": {
   "codemirror_mode": {
    "name": "ipython",
    "version": 3
   },
   "file_extension": ".py",
   "mimetype": "text/x-python",
   "name": "python",
   "nbconvert_exporter": "python",
   "pygments_lexer": "ipython3",
   "version": "3.13.5"
  }
 },
 "nbformat": 4,
 "nbformat_minor": 5
}

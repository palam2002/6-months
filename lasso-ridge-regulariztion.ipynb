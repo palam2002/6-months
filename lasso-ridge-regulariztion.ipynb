{
 "cells": [
  {
   "cell_type": "code",
   "execution_count": 1,
   "id": "a2e79ae6-e5c9-4530-9ab6-1f022e853fea",
   "metadata": {},
   "outputs": [],
   "source": [
    "# import numerical libraries\n",
    "import numpy as np\n",
    "import pandas as pd\n",
    "import warnings\n",
    "\n",
    "# import graphical plot libraries\n",
    "import seaborn as sn\n",
    "import matplotlib.pyplot as plt\n",
    "%matplotlib inline\n",
    "\n",
    "# Import Linear regression machine learning libraries\n",
    "from sklearn import preprocessing\n",
    "from sklearn.preprocessing import PolynomialFeatures\n",
    "from sklearn.model_selection import train_test_split\n",
    "\n",
    "from sklearn.linear_model import LinearRegression, Ridge, Lasso\n",
    "from sklearn.metrics import r2_score"
   ]
  },
  {
   "cell_type": "code",
   "execution_count": 2,
   "id": "135862c9-b255-4c69-bb2d-a8a6326477e3",
   "metadata": {},
   "outputs": [
    {
     "data": {
      "text/html": [
       "<div>\n",
       "<style scoped>\n",
       "    .dataframe tbody tr th:only-of-type {\n",
       "        vertical-align: middle;\n",
       "    }\n",
       "\n",
       "    .dataframe tbody tr th {\n",
       "        vertical-align: top;\n",
       "    }\n",
       "\n",
       "    .dataframe thead th {\n",
       "        text-align: right;\n",
       "    }\n",
       "</style>\n",
       "<table border=\"1\" class=\"dataframe\">\n",
       "  <thead>\n",
       "    <tr style=\"text-align: right;\">\n",
       "      <th></th>\n",
       "      <th>mpg</th>\n",
       "      <th>cyl</th>\n",
       "      <th>disp</th>\n",
       "      <th>hp</th>\n",
       "      <th>wt</th>\n",
       "      <th>acc</th>\n",
       "      <th>yr</th>\n",
       "      <th>origin</th>\n",
       "      <th>car_type</th>\n",
       "      <th>car_name</th>\n",
       "    </tr>\n",
       "  </thead>\n",
       "  <tbody>\n",
       "    <tr>\n",
       "      <th>0</th>\n",
       "      <td>18.0</td>\n",
       "      <td>8</td>\n",
       "      <td>307.0</td>\n",
       "      <td>130</td>\n",
       "      <td>3504</td>\n",
       "      <td>12.0</td>\n",
       "      <td>70</td>\n",
       "      <td>1</td>\n",
       "      <td>0</td>\n",
       "      <td>chevrolet chevelle malibu</td>\n",
       "    </tr>\n",
       "    <tr>\n",
       "      <th>1</th>\n",
       "      <td>15.0</td>\n",
       "      <td>8</td>\n",
       "      <td>350.0</td>\n",
       "      <td>165</td>\n",
       "      <td>3693</td>\n",
       "      <td>11.5</td>\n",
       "      <td>70</td>\n",
       "      <td>1</td>\n",
       "      <td>0</td>\n",
       "      <td>buick skylark 320</td>\n",
       "    </tr>\n",
       "    <tr>\n",
       "      <th>2</th>\n",
       "      <td>18.0</td>\n",
       "      <td>8</td>\n",
       "      <td>318.0</td>\n",
       "      <td>150</td>\n",
       "      <td>3436</td>\n",
       "      <td>11.0</td>\n",
       "      <td>70</td>\n",
       "      <td>1</td>\n",
       "      <td>0</td>\n",
       "      <td>plymouth satellite</td>\n",
       "    </tr>\n",
       "    <tr>\n",
       "      <th>3</th>\n",
       "      <td>16.0</td>\n",
       "      <td>8</td>\n",
       "      <td>304.0</td>\n",
       "      <td>150</td>\n",
       "      <td>3433</td>\n",
       "      <td>12.0</td>\n",
       "      <td>70</td>\n",
       "      <td>1</td>\n",
       "      <td>0</td>\n",
       "      <td>amc rebel sst</td>\n",
       "    </tr>\n",
       "    <tr>\n",
       "      <th>4</th>\n",
       "      <td>17.0</td>\n",
       "      <td>8</td>\n",
       "      <td>302.0</td>\n",
       "      <td>140</td>\n",
       "      <td>3449</td>\n",
       "      <td>10.5</td>\n",
       "      <td>70</td>\n",
       "      <td>1</td>\n",
       "      <td>0</td>\n",
       "      <td>ford torino</td>\n",
       "    </tr>\n",
       "  </tbody>\n",
       "</table>\n",
       "</div>"
      ],
      "text/plain": [
       "    mpg  cyl   disp   hp    wt   acc  yr  origin  car_type  \\\n",
       "0  18.0    8  307.0  130  3504  12.0  70       1         0   \n",
       "1  15.0    8  350.0  165  3693  11.5  70       1         0   \n",
       "2  18.0    8  318.0  150  3436  11.0  70       1         0   \n",
       "3  16.0    8  304.0  150  3433  12.0  70       1         0   \n",
       "4  17.0    8  302.0  140  3449  10.5  70       1         0   \n",
       "\n",
       "                    car_name  \n",
       "0  chevrolet chevelle malibu  \n",
       "1          buick skylark 320  \n",
       "2         plymouth satellite  \n",
       "3              amc rebel sst  \n",
       "4                ford torino  "
      ]
     },
     "execution_count": 2,
     "metadata": {},
     "output_type": "execute_result"
    }
   ],
   "source": [
    "warnings.filterwarnings('ignore')\n",
    "# read / load data from csv.\n",
    "data = pd.read_csv('/Users/palammysurareddy/Downloads/car-mpg - car-mpg.csv')\n",
    "data.head()"
   ]
  },
  {
   "cell_type": "code",
   "execution_count": 4,
   "id": "fd0a9054-63b7-40b9-8496-393ed5dc15d6",
   "metadata": {},
   "outputs": [],
   "source": [
    "data = data.drop(['car_name'], axis = 1)\n",
    "data['origin'] = data['origin'].replace({1: 'america', 2: 'europe', 3: 'asia'})\n",
    "data = pd.get_dummies(data,columns = ['origin'])\n",
    "data = data.replace('?', np.nan)\n",
    "# Identify columns that should be numeric but might contain NaNs or be object type.\n",
    "# It's good practice to list your numeric columns or infer them.\n",
    "# For example, if 'horsepower' and 'acceleration' were originally numbers but had\n",
    "numeric_cols = ['cyl', 'disp', 'hp', 'wt', 'acc', 'yr']\n",
    "for col in numeric_cols:\n",
    "    # pd.to_numeric will convert to a number, coercing errors to NaN\n",
    "    # errors='coerce' is crucial here: it turns any value that *cannot* be converted\n",
    "    # into a number into NaN. This handles cases where '?' might not have been replaced,\n",
    "    # or other non-numeric strings exist.\n",
    "    data[col] = pd.to_numeric(data[col], errors='coerce')\n",
    "data = data.apply(lambda x: x.fillna(x.median()), axis = 0)"
   ]
  },
  {
   "cell_type": "code",
   "execution_count": 6,
   "id": "76bc6a14-b9d9-4207-8e9f-e7d263f8ff94",
   "metadata": {},
   "outputs": [],
   "source": [
    "X = data.drop(['mpg'], axis=1) # independent variable\n",
    "Y = data[['mpg']] #depentdent variable"
   ]
  },
  {
   "cell_type": "code",
   "execution_count": 7,
   "id": "46f5024f-6571-4f56-b9f3-48b6c32872d7",
   "metadata": {},
   "outputs": [],
   "source": [
    "X_s = preprocessing.scale(X)\n",
    "X_s = pd.DataFrame(X_s, columns = X.columns) #converting scaled data into dataframe\n",
    "\n",
    "Y_s = preprocessing.scale(Y)\n",
    "Y_s = pd.DataFrame(Y_s, columns = Y.columns)"
   ]
  },
  {
   "cell_type": "code",
   "execution_count": 8,
   "id": "02ea0874-9285-4a16-b5a8-34857006dc63",
   "metadata": {},
   "outputs": [
    {
     "data": {
      "text/plain": [
       "(278, 10)"
      ]
     },
     "execution_count": 8,
     "metadata": {},
     "output_type": "execute_result"
    }
   ],
   "source": [
    "X_train, X_test, Y_train, Y_test = train_test_split(X_s, Y_s, test_size=0.30,random_state=1)\n",
    "X_train.shape"
   ]
  },
  {
   "cell_type": "code",
   "execution_count": 9,
   "id": "715e380d-2382-4a13-80e6-16e09ba635ba",
   "metadata": {},
   "outputs": [
    {
     "name": "stdout",
     "output_type": "stream",
     "text": [
      "The coefficient for cyl is 0.3210223856916098\n",
      "The coefficient for disp is 0.32483430918483935\n",
      "The coefficient for hp is -0.22916950059437635\n",
      "The coefficient for wt is -0.7112101905072296\n",
      "The coefficient for acc is 0.014713682764190952\n",
      "The coefficient for yr is 0.37558119495107395\n",
      "The coefficient for car_type is 0.3814769484233098\n",
      "The coefficient for origin_america is -0.07472247547584174\n",
      "The coefficient for origin_asia is 0.04451525203567835\n",
      "The coefficient for origin_europe is 0.04834854953945395\n",
      "The intercept is 0.0192841161036397\n"
     ]
    }
   ],
   "source": [
    "regression_model = LinearRegression()\n",
    "regression_model.fit(X_train, Y_train)\n",
    "\n",
    "for idx, col_name in enumerate(X_train.columns):\n",
    "    print('The coefficient for {} is {}'.format(col_name, regression_model.coef_[0][idx]))\n",
    "    \n",
    "intercept = regression_model.intercept_[0]\n",
    "print('The intercept is {}'.format(intercept))"
   ]
  },
  {
   "cell_type": "code",
   "execution_count": 10,
   "id": "ef809e77-19f1-425d-a179-01963bb6068f",
   "metadata": {},
   "outputs": [
    {
     "name": "stdout",
     "output_type": "stream",
     "text": [
      "Ridge coef.[[ 0.31649043  0.31320707 -0.22876025 -0.70109447  0.01295851  0.37447352\n",
      "   0.37725608 -0.07423624  0.04441039  0.04784031]]\n"
     ]
    }
   ],
   "source": [
    "ridge_model = Ridge(alpha =0.3)\n",
    "ridge_model.fit(X_train, Y_train)\n",
    "\n",
    "print('Ridge coef.{}'.format(ridge_model.coef_)) "
   ]
  },
  {
   "cell_type": "code",
   "execution_count": 11,
   "id": "af7a3586-5694-4f80-a60b-dc72de0566d5",
   "metadata": {},
   "outputs": [
    {
     "name": "stdout",
     "output_type": "stream",
     "text": [
      "Lasso coef.[-0.         -0.         -0.01690287 -0.51890013  0.          0.28138241\n",
      "  0.1278489  -0.01642647  0.          0.        ]\n"
     ]
    }
   ],
   "source": [
    "lasso_model = Lasso(alpha =0.1)\n",
    "lasso_model.fit(X_train, Y_train)\n",
    "\n",
    "print('Lasso coef.{}'.format(lasso_model.coef_))"
   ]
  },
  {
   "cell_type": "code",
   "execution_count": 12,
   "id": "3679b0e2-20aa-4275-ae50-d484ad3fde6c",
   "metadata": {},
   "outputs": [
    {
     "name": "stdout",
     "output_type": "stream",
     "text": [
      "0.8343770256960538\n",
      "0.8513421387780067\n",
      "*************************\n",
      "0.8343617931312616\n",
      "0.8518882171608506\n",
      "*************************\n",
      "0.7938010766228453\n",
      "0.8375229615977083\n"
     ]
    }
   ],
   "source": [
    "print(regression_model.score(X_train, Y_train))\n",
    "print(regression_model.score(X_test, Y_test))\n",
    "\n",
    "print('*************************')\n",
    "#Ridge\n",
    "print(ridge_model.score(X_train, Y_train))\n",
    "print(ridge_model.score(X_test, Y_test))\n",
    "\n",
    "print('*************************')\n",
    "#Lasso\n",
    "print(lasso_model.score(X_train, Y_train))\n",
    "print(lasso_model.score(X_test, Y_test))"
   ]
  },
  {
   "cell_type": "code",
   "execution_count": 13,
   "id": "ee2e5ab0-fad8-4f89-9561-47f4ba465aab",
   "metadata": {},
   "outputs": [
    {
     "data": {
      "text/html": [
       "<div>\n",
       "<style scoped>\n",
       "    .dataframe tbody tr th:only-of-type {\n",
       "        vertical-align: middle;\n",
       "    }\n",
       "\n",
       "    .dataframe tbody tr th {\n",
       "        vertical-align: top;\n",
       "    }\n",
       "\n",
       "    .dataframe thead th {\n",
       "        text-align: right;\n",
       "    }\n",
       "</style>\n",
       "<table border=\"1\" class=\"dataframe\">\n",
       "  <thead>\n",
       "    <tr style=\"text-align: right;\">\n",
       "      <th></th>\n",
       "      <th>cyl</th>\n",
       "      <th>disp</th>\n",
       "      <th>hp</th>\n",
       "      <th>wt</th>\n",
       "      <th>acc</th>\n",
       "      <th>yr</th>\n",
       "      <th>car_type</th>\n",
       "      <th>origin_america</th>\n",
       "      <th>origin_asia</th>\n",
       "      <th>origin_europe</th>\n",
       "      <th>mpg</th>\n",
       "    </tr>\n",
       "  </thead>\n",
       "  <tbody>\n",
       "    <tr>\n",
       "      <th>350</th>\n",
       "      <td>-0.856321</td>\n",
       "      <td>-0.849116</td>\n",
       "      <td>-1.081977</td>\n",
       "      <td>-0.893172</td>\n",
       "      <td>-0.242570</td>\n",
       "      <td>1.351199</td>\n",
       "      <td>0.941412</td>\n",
       "      <td>0.773559</td>\n",
       "      <td>-0.497643</td>\n",
       "      <td>-0.461968</td>\n",
       "      <td>1.432898</td>\n",
       "    </tr>\n",
       "    <tr>\n",
       "      <th>59</th>\n",
       "      <td>-0.856321</td>\n",
       "      <td>-0.925936</td>\n",
       "      <td>-1.317736</td>\n",
       "      <td>-0.847061</td>\n",
       "      <td>2.879909</td>\n",
       "      <td>-1.085858</td>\n",
       "      <td>0.941412</td>\n",
       "      <td>-1.292726</td>\n",
       "      <td>-0.497643</td>\n",
       "      <td>2.164651</td>\n",
       "      <td>-0.065919</td>\n",
       "    </tr>\n",
       "    <tr>\n",
       "      <th>120</th>\n",
       "      <td>-0.856321</td>\n",
       "      <td>-0.695475</td>\n",
       "      <td>0.201600</td>\n",
       "      <td>-0.121101</td>\n",
       "      <td>-0.024722</td>\n",
       "      <td>-0.815074</td>\n",
       "      <td>0.941412</td>\n",
       "      <td>-1.292726</td>\n",
       "      <td>-0.497643</td>\n",
       "      <td>2.164651</td>\n",
       "      <td>-0.578335</td>\n",
       "    </tr>\n",
       "    <tr>\n",
       "      <th>12</th>\n",
       "      <td>1.498191</td>\n",
       "      <td>1.983643</td>\n",
       "      <td>1.197027</td>\n",
       "      <td>0.934732</td>\n",
       "      <td>-2.203196</td>\n",
       "      <td>-1.627426</td>\n",
       "      <td>-1.062235</td>\n",
       "      <td>0.773559</td>\n",
       "      <td>-0.497643</td>\n",
       "      <td>-0.461968</td>\n",
       "      <td>-1.090751</td>\n",
       "    </tr>\n",
       "    <tr>\n",
       "      <th>349</th>\n",
       "      <td>-0.856321</td>\n",
       "      <td>-0.983552</td>\n",
       "      <td>-0.951000</td>\n",
       "      <td>-1.165111</td>\n",
       "      <td>0.156817</td>\n",
       "      <td>1.351199</td>\n",
       "      <td>0.941412</td>\n",
       "      <td>-1.292726</td>\n",
       "      <td>2.009471</td>\n",
       "      <td>-0.461968</td>\n",
       "      <td>1.356035</td>\n",
       "    </tr>\n",
       "  </tbody>\n",
       "</table>\n",
       "</div>"
      ],
      "text/plain": [
       "          cyl      disp        hp        wt       acc        yr  car_type  \\\n",
       "350 -0.856321 -0.849116 -1.081977 -0.893172 -0.242570  1.351199  0.941412   \n",
       "59  -0.856321 -0.925936 -1.317736 -0.847061  2.879909 -1.085858  0.941412   \n",
       "120 -0.856321 -0.695475  0.201600 -0.121101 -0.024722 -0.815074  0.941412   \n",
       "12   1.498191  1.983643  1.197027  0.934732 -2.203196 -1.627426 -1.062235   \n",
       "349 -0.856321 -0.983552 -0.951000 -1.165111  0.156817  1.351199  0.941412   \n",
       "\n",
       "     origin_america  origin_asia  origin_europe       mpg  \n",
       "350        0.773559    -0.497643      -0.461968  1.432898  \n",
       "59        -1.292726    -0.497643       2.164651 -0.065919  \n",
       "120       -1.292726    -0.497643       2.164651 -0.578335  \n",
       "12         0.773559    -0.497643      -0.461968 -1.090751  \n",
       "349       -1.292726     2.009471      -0.461968  1.356035  "
      ]
     },
     "execution_count": 13,
     "metadata": {},
     "output_type": "execute_result"
    }
   ],
   "source": [
    "data_train_test = pd.concat([X_train, Y_train], axis =1)\n",
    "data_train_test.head()"
   ]
  },
  {
   "cell_type": "code",
   "execution_count": 14,
   "id": "af73a185-cb04-494f-ab82-8574555c80dd",
   "metadata": {},
   "outputs": [
    {
     "data": {
      "text/plain": [
       "Intercept         0.019284\n",
       "cyl               0.321022\n",
       "disp              0.324834\n",
       "hp               -0.229170\n",
       "wt               -0.711210\n",
       "acc               0.014714\n",
       "yr                0.375581\n",
       "car_type          0.381477\n",
       "origin_america   -0.074722\n",
       "origin_europe     0.048349\n",
       "origin_asia       0.044515\n",
       "dtype: float64"
      ]
     },
     "execution_count": 14,
     "metadata": {},
     "output_type": "execute_result"
    }
   ],
   "source": [
    "import statsmodels.formula.api as smf\n",
    "ols1 = smf.ols(formula = 'mpg ~ cyl+disp+hp+wt+acc+yr+car_type+origin_america+origin_europe+origin_asia', data = data_train_test).fit()\n",
    "ols1.params"
   ]
  },
  {
   "cell_type": "code",
   "execution_count": 15,
   "id": "87795c00-9c8c-4912-b399-e527ec03ff60",
   "metadata": {},
   "outputs": [
    {
     "name": "stdout",
     "output_type": "stream",
     "text": [
      "                            OLS Regression Results                            \n",
      "==============================================================================\n",
      "Dep. Variable:                    mpg   R-squared:                       0.834\n",
      "Model:                            OLS   Adj. R-squared:                  0.829\n",
      "Method:                 Least Squares   F-statistic:                     150.0\n",
      "Date:                Tue, 15 Jul 2025   Prob (F-statistic):           3.12e-99\n",
      "Time:                        10:51:20   Log-Likelihood:                -146.89\n",
      "No. Observations:                 278   AIC:                             313.8\n",
      "Df Residuals:                     268   BIC:                             350.1\n",
      "Df Model:                           9                                         \n",
      "Covariance Type:            nonrobust                                         \n",
      "==================================================================================\n",
      "                     coef    std err          t      P>|t|      [0.025      0.975]\n",
      "----------------------------------------------------------------------------------\n",
      "Intercept          0.0193      0.025      0.765      0.445      -0.030       0.069\n",
      "cyl                0.3210      0.112      2.856      0.005       0.100       0.542\n",
      "disp               0.3248      0.128      2.544      0.012       0.073       0.576\n",
      "hp                -0.2292      0.079     -2.915      0.004      -0.384      -0.074\n",
      "wt                -0.7112      0.088     -8.118      0.000      -0.884      -0.539\n",
      "acc                0.0147      0.039      0.373      0.709      -0.063       0.092\n",
      "yr                 0.3756      0.029     13.088      0.000       0.319       0.432\n",
      "car_type           0.3815      0.067      5.728      0.000       0.250       0.513\n",
      "origin_america    -0.0747      0.020     -3.723      0.000      -0.114      -0.035\n",
      "origin_europe      0.0483      0.021      2.270      0.024       0.006       0.090\n",
      "origin_asia        0.0445      0.020      2.175      0.031       0.004       0.085\n",
      "==============================================================================\n",
      "Omnibus:                       22.678   Durbin-Watson:                   2.105\n",
      "Prob(Omnibus):                  0.000   Jarque-Bera (JB):               36.139\n",
      "Skew:                           0.513   Prob(JB):                     1.42e-08\n",
      "Kurtosis:                       4.438   Cond. No.                     6.80e+15\n",
      "==============================================================================\n",
      "\n",
      "Notes:\n",
      "[1] Standard Errors assume that the covariance matrix of the errors is correctly specified.\n",
      "[2] The smallest eigenvalue is 3.38e-29. This might indicate that there are\n",
      "strong multicollinearity problems or that the design matrix is singular.\n"
     ]
    }
   ],
   "source": [
    "print(ols1.summary())"
   ]
  },
  {
   "cell_type": "code",
   "execution_count": 16,
   "id": "5b5fba5d-6a21-439c-9fd6-5ea8759f3fc4",
   "metadata": {},
   "outputs": [
    {
     "name": "stdout",
     "output_type": "stream",
     "text": [
      "Root Mean Squared Error: 0.37766934254087825\n"
     ]
    }
   ],
   "source": [
    "#Lets check Sum of Squared Errors (SSE) by predicting value of y for test cases and subtracting from the actual y for the test cases\n",
    "mse  = np.mean((regression_model.predict(X_test)-Y_test)**2)\n",
    "\n",
    "# root of mean_sq_error is standard deviation i.e. avg variance between predicted and actual\n",
    "import math\n",
    "rmse = math.sqrt(mse)\n",
    "print('Root Mean Squared Error: {}'.format(rmse))"
   ]
  },
  {
   "cell_type": "code",
   "execution_count": 20,
   "id": "2bf4ee47-aa30-4bec-88ad-0c4d1ab7af34",
   "metadata": {},
   "outputs": [
    {
     "data": {
      "image/png": "[encoded data removed]",
      "text/plain": [
       "<Figure size 800x600 with 1 Axes>"
      ]
     },
     "metadata": {},
     "output_type": "display_data"
    },
    {
     "data": {
      "image/png": "[encoded data removed]",
      "text/plain": [
       "<Figure size 800x600 with 1 Axes>"
      ]
     },
     "metadata": {},
     "output_type": "display_data"
    }
   ],
   "source": [
    "fig = plt.figure(figsize=(8,6))\n",
    "sn.residplot(x= X_test['hp'], y= Y_test['mpg'], color='blue', lowess=True )\n",
    "\n",
    "\n",
    "fig = plt.figure(figsize=(8,6))\n",
    "sn.residplot(x= X_test['acc'], y= Y_test['mpg'], color='yellow', lowess=True )\n",
    "plt.show()"
   ]
  },
  {
   "cell_type": "code",
   "execution_count": 19,
   "id": "1b125ed8-5a07-466b-a143-3ef300d1f78c",
   "metadata": {},
   "outputs": [
    {
     "data": {
      "image/png": "[encoded data removed]",
      "text/plain": [
       "<Figure size 640x480 with 1 Axes>"
      ]
     },
     "metadata": {},
     "output_type": "display_data"
    }
   ],
   "source": [
    "y_pred = regression_model.predict(X_test)\n",
    "\n",
    "min_value = min(Y_test['mpg'].min(), y_pred.min())\n",
    "max_value = max(Y_test['mpg'].max(), y_pred.max())\n",
    "\n",
    "plot_range = np.linspace(min_value,max_value, 100)\n",
    "\n",
    "plt.plot(plot_range, plot_range, color='green', linestyle='--', label='Perfect Prediction (y=x)')\n",
    "plt.scatter(Y_test['mpg'], y_pred, color='red')\n",
    "plt.show()"
   ]
  },
  {
   "cell_type": "code",
   "execution_count": null,
   "id": "bd0ad8a4-915f-4e12-b763-aa48c0182ca1",
   "metadata": {},
   "outputs": [],
   "source": []
  }
 ],
 "metadata": {
  "kernelspec": {
   "display_name": "Python 3 (ipykernel)",
   "language": "python",
   "name": "python3"
  },
  "language_info": {
   "codemirror_mode": {
    "name": "ipython",
    "version": 3
   },
   "file_extension": ".py",
   "mimetype": "text/x-python",
   "name": "python",
   "nbconvert_exporter": "python",
   "pygments_lexer": "ipython3",
   "version": "3.12.7"
  }
 },
 "nbformat": 4,
 "nbformat_minor": 5
}

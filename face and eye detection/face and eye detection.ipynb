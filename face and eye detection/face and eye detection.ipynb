{
 "cells": [
  {
   "cell_type": "code",
   "execution_count": 1,
   "id": "5d68b827",
   "metadata": {},
   "outputs": [],
   "source": [
    "import cv2\n",
    "\n",
    "# Load the Haar cascade files for face and eye detection\n",
    "face_cascade = cv2.CascadeClassifier(\"/Users/palammysurareddy/Downloads/haar cascade classifier basic project/Haarcascades/haarcascade_frontalface_default.xml\")\n",
    "eye_cascade = cv2.CascadeClassifier(\"/Users/palammysurareddy/Downloads/haar cascade classifier basic project/Haarcascades/haarcascade_eye.xml\")\n",
    "\n",
    "\n",
    "# Check if the cascade files were loaded properly\n",
    "if face_cascade.empty():\n",
    "    print(\"Error: Could not load face cascade classifier.\")\n",
    "    exit()\n",
    "\n",
    "if eye_cascade.empty():\n",
    "    print(\"Error: Could not load eye cascade classifier.\")\n",
    "    exit()\n",
    "\n",
    "# Function to detect faces and eyes in the frame\n",
    "def detect_faces_and_eyes(gray, frame):\n",
    "    # Detect faces in the grayscale image\n",
    "    faces = face_cascade.detectMultiScale(gray, scaleFactor=1.3, minNeighbors=5)\n",
    "    \n",
    "    for (x, y, w, h) in faces:\n",
    "        # Draw rectangle around the face\n",
    "        cv2.rectangle(frame, (x, y), (x + w, y + h), (255, 0, 0), 2)\n",
    "        \n",
    "        # Region of interest for detecting eyes within the face\n",
    "        roi_gray = gray[y:y + h, x:x + w]\n",
    "        roi_color = frame[y:y + h, x:x + w]\n",
    "        \n",
    "        # Detect eyes within the face region\n",
    "        eyes = eye_cascade.detectMultiScale(roi_gray)\n",
    "        for (ex, ey, ew, eh) in eyes:\n",
    "            # Draw rectangle around the eyes\n",
    "            cv2.rectangle(roi_color, (ex, ey), (ex + ew, ey + eh), (0, 255, 0), 2)\n",
    "\n",
    "    return frame\n"
   ]
  },
  {
   "cell_type": "code",
   "execution_count": null,
   "id": "aff0ae1a",
   "metadata": {},
   "outputs": [],
   "source": []
  }
 ],
 "metadata": {
  "kernelspec": {
   "display_name": "base",
   "language": "python",
   "name": "python3"
  },
  "language_info": {
   "codemirror_mode": {
    "name": "ipython",
    "version": 3
   },
   "file_extension": ".py",
   "mimetype": "text/x-python",
   "name": "python",
   "nbconvert_exporter": "python",
   "pygments_lexer": "ipython3",
   "version": "3.12.2"
  }
 },
 "nbformat": 4,
 "nbformat_minor": 5
}

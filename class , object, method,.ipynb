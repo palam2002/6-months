{
 "cells": [
  {
   "cell_type": "code",
   "execution_count": 1,
   "id": "cb7a87c8-5d73-49f7-ada5-4380f8514f10",
   "metadata": {},
   "outputs": [
    {
     "name": "stdout",
     "output_type": "stream",
     "text": [
      "<class 'int'>\n"
     ]
    }
   ],
   "source": [
    "a = 5\n",
    "print(type(a))"
   ]
  },
  {
   "cell_type": "code",
   "execution_count": 2,
   "id": "9cf38c20-94e7-4323-b116-88b453671675",
   "metadata": {},
   "outputs": [
    {
     "name": "stdout",
     "output_type": "stream",
     "text": [
      "<class 'list'>\n"
     ]
    }
   ],
   "source": [
    "l = [1,2,3,]\n",
    "print(type(l))"
   ]
  },
  {
   "cell_type": "code",
   "execution_count": 3,
   "id": "4fbab2ef-4503-4a4f-aa0c-7b3caeaf64eb",
   "metadata": {},
   "outputs": [
    {
     "name": "stdout",
     "output_type": "stream",
     "text": [
      "i5 8gb\n"
     ]
    }
   ],
   "source": [
    "def config():   \n",
    "    print('i5', '8gb')\n",
    "config()\n"
   ]
  },
  {
   "cell_type": "code",
   "execution_count": 6,
   "id": "17db121c-df5a-4f72-a7b9-f11078bc1591",
   "metadata": {},
   "outputs": [],
   "source": [
    "class laptop():\n",
    "    def config(): \n",
    "        print('i8', 'hp', 8)\n",
    "        print('i12', 'dell', 16)\n",
    "\n",
    "lap1 = laptop()        "
   ]
  },
  {
   "cell_type": "code",
   "execution_count": 7,
   "id": "ea93ca1d-1822-451f-a88f-2060d06af712",
   "metadata": {},
   "outputs": [
    {
     "name": "stdout",
     "output_type": "stream",
     "text": [
      "i8 hp 8\n",
      "i12 dell 16\n"
     ]
    }
   ],
   "source": [
    "class laptop():\n",
    "    def config(): \n",
    "        print('i8', 'hp', 8)\n",
    "        print('i12', 'dell', 16)\n",
    "\n",
    "lap1 = laptop()  \n",
    "\n",
    "laptop.config()"
   ]
  },
  {
   "cell_type": "code",
   "execution_count": 8,
   "id": "39d986f1-7aa4-4954-8580-a5e224efe38d",
   "metadata": {},
   "outputs": [
    {
     "ename": "TypeError",
     "evalue": "laptop.config() takes 0 positional arguments but 1 was given",
     "output_type": "error",
     "traceback": [
      "\u001b[1;31m---------------------------------------------------------------------------\u001b[0m",
      "\u001b[1;31mTypeError\u001b[0m                                 Traceback (most recent call last)",
      "Cell \u001b[1;32mIn[8], line 7\u001b[0m\n\u001b[0;32m      4\u001b[0m         \u001b[38;5;28mprint\u001b[39m(\u001b[38;5;124m'\u001b[39m\u001b[38;5;124mi12\u001b[39m\u001b[38;5;124m'\u001b[39m, \u001b[38;5;124m'\u001b[39m\u001b[38;5;124mdell\u001b[39m\u001b[38;5;124m'\u001b[39m, \u001b[38;5;241m16\u001b[39m)\n\u001b[0;32m      6\u001b[0m lap1 \u001b[38;5;241m=\u001b[39m laptop()  \n\u001b[1;32m----> 7\u001b[0m lap1\u001b[38;5;241m.\u001b[39mconfig()\n",
      "\u001b[1;31mTypeError\u001b[0m: laptop.config() takes 0 positional arguments but 1 was given"
     ]
    }
   ],
   "source": [
    "class laptop():\n",
    "    def config(): \n",
    "        print('i8', 'hp', 8)\n",
    "        print('i12', 'dell', 16)\n",
    "\n",
    "lap1 = laptop()  \n",
    "lap1.config()"
   ]
  },
  {
   "cell_type": "code",
   "execution_count": 13,
   "id": "664d0e00-4902-42a8-bc8f-c8701e115828",
   "metadata": {},
   "outputs": [
    {
     "name": "stdout",
     "output_type": "stream",
     "text": [
      "i8 hp 8\n",
      "i12 dell 16\n"
     ]
    }
   ],
   "source": [
    "class laptop():\n",
    "    def config(self): \n",
    "        print('i8', 'hp', 8)\n",
    "        print('i12', 'dell', 16)\n",
    "\n",
    "lap1 = laptop()  \n",
    "laptop.config(lap1)"
   ]
  },
  {
   "cell_type": "code",
   "execution_count": 15,
   "id": "57342eff-bc3f-437f-9142-818d4927c1e7",
   "metadata": {},
   "outputs": [
    {
     "name": "stdout",
     "output_type": "stream",
     "text": [
      "i8 hp 8\n",
      "i12 dell 16\n"
     ]
    }
   ],
   "source": [
    "class laptop():\n",
    "    def config(self): \n",
    "        print('i8', 'hp', 8)\n",
    "        print('i12', 'dell', 16)\n",
    "\n",
    "lap1 = laptop()  \n",
    "lap2 = laptop()\n",
    "lap3 = laptop()\n",
    "\n",
    "lap1.config()"
   ]
  },
  {
   "cell_type": "code",
   "execution_count": 16,
   "id": "c7664780-54b7-438e-8062-48e62d652ade",
   "metadata": {},
   "outputs": [
    {
     "name": "stdout",
     "output_type": "stream",
     "text": [
      "<class 'float'>\n",
      "<class '__main__.computer'>\n"
     ]
    }
   ],
   "source": [
    "class computer:       \n",
    "    def config():      \n",
    "        print('i5', '8gb') \n",
    "    \n",
    "a = 8.8\n",
    "print(type(a))\n",
    "\n",
    "com1 = computer() \n",
    "print(type(com1))  "
   ]
  },
  {
   "cell_type": "code",
   "execution_count": 19,
   "id": "fa6df7f2-25b2-44db-af05-840cf35a2145",
   "metadata": {},
   "outputs": [],
   "source": [
    "class laptop():\n",
    "    def config(self): \n",
    "        print('i8', 'hp', 8)\n",
    "        print('i12', 'dell', 16)\n",
    "\n",
    "lap1 = laptop() "
   ]
  },
  {
   "cell_type": "code",
   "execution_count": 20,
   "id": "c1818d92-07d1-4932-9bed-06773c71e42e",
   "metadata": {},
   "outputs": [
    {
     "name": "stdout",
     "output_type": "stream",
     "text": [
      "i8 hp 8\n",
      "i12 dell 16\n"
     ]
    }
   ],
   "source": [
    "class laptop():\n",
    "    def __init__(self): \n",
    "        print('i8', 'hp', 8)\n",
    "        print('i12', 'dell', 16)\n",
    "\n",
    "lap = laptop()"
   ]
  },
  {
   "cell_type": "code",
   "execution_count": 23,
   "id": "2fcaded9-ddfd-47cb-b42c-823b1eff5544",
   "metadata": {},
   "outputs": [
    {
     "name": "stdout",
     "output_type": "stream",
     "text": [
      "i8 hp 8\n",
      "i12 dell 16\n",
      "\n",
      "i8 hp 8\n",
      "i12 dell 16\n",
      "\n",
      "i8 hp 8\n",
      "i12 dell 16\n"
     ]
    }
   ],
   "source": [
    "class laptop():\n",
    "    def __init__(self): \n",
    "        print('i8', 'hp', 8)\n",
    "        print('i12', 'dell', 16)\n",
    "\n",
    "lap = laptop()\n",
    "\n",
    "print()\n",
    "lap2 = laptop()\n",
    "\n",
    "print()\n",
    "\n",
    "lap3 = laptop()\n"
   ]
  },
  {
   "cell_type": "code",
   "execution_count": 27,
   "id": "100dd77d-46f4-4d2d-9ba3-777533eee064",
   "metadata": {},
   "outputs": [
    {
     "name": "stdout",
     "output_type": "stream",
     "text": [
      "i8 hp 8\n",
      "i12 dell 16\n",
      "\n",
      "i8 hp 8\n",
      "i12 dell 16\n",
      "\n",
      "i8 hp 8\n",
      "i12 dell 16\n"
     ]
    }
   ],
   "source": [
    "class laptop():\n",
    "    def __init__(self): \n",
    "        print('i8', 'hp', 8)\n",
    "        print('i12', 'dell', 16)\n",
    "\n",
    "lap = laptop()\n",
    "print()\n",
    "lap3 = laptop()\n",
    "print()\n",
    "lap3.__init__()\n"
   ]
  },
  {
   "cell_type": "code",
   "execution_count": 28,
   "id": "cc1d34e1-82eb-42f5-8ce8-ab599307e24b",
   "metadata": {},
   "outputs": [
    {
     "name": "stdout",
     "output_type": "stream",
     "text": [
      "in init\n",
      "in init\n",
      "in init\n"
     ]
    }
   ],
   "source": [
    "class computer:        \n",
    "    \n",
    "    def __init__(self): #__init__ means initialize the varible\n",
    "        print('in init')\n",
    "        \n",
    "com1 = computer()\n",
    "com2 = computer()\n",
    "com3 = computer()"
   ]
  },
  {
   "cell_type": "code",
   "execution_count": 31,
   "id": "cde9a43b-f085-42dc-ade5-2786ebb358ff",
   "metadata": {},
   "outputs": [
    {
     "name": "stdout",
     "output_type": "stream",
     "text": [
      "in init\n",
      "in init\n",
      "i5 8gb\n"
     ]
    }
   ],
   "source": [
    "class computer():        \n",
    "    \n",
    "    def __init__(self):\n",
    "        print('in init')\n",
    "    \n",
    "    def config(self):     \n",
    "        print('i5', '8gb')\n",
    "\n",
    "com1 = computer()\n",
    "com2 = computer()\n",
    "\n",
    "com1.config() "
   ]
  },
  {
   "cell_type": "code",
   "execution_count": 32,
   "id": "121eebf9-38a7-4aaf-ae58-9dc472b87082",
   "metadata": {},
   "outputs": [
    {
     "name": "stdout",
     "output_type": "stream",
     "text": [
      "in init\n",
      "in init\n",
      "i5 8gb\n",
      "i5 8gb\n"
     ]
    }
   ],
   "source": [
    "class computer():        \n",
    "    \n",
    "    def __init__(self): # idea behind init is it will call automatically\n",
    "        print('in init') #i define a function called init & i am not calling init\n",
    "    \n",
    "    def config(self):     # i m calling config cuz i want to execute\n",
    "        print('i5', '8gb')\n",
    "\n",
    "com1 = computer() # as we create 2 object automatically init called 2 times\n",
    "com2 = computer()\n",
    "\n",
    "com1.config() \n",
    "com2.config()\n"
   ]
  },
  {
   "cell_type": "code",
   "execution_count": 38,
   "id": "38498760-aaa2-433f-bdf3-b75d586c85b4",
   "metadata": {},
   "outputs": [
    {
     "ename": "TypeError",
     "evalue": "computer.__init__() takes 1 positional argument but 3 were given",
     "output_type": "error",
     "traceback": [
      "\u001b[1;31m---------------------------------------------------------------------------\u001b[0m",
      "\u001b[1;31mTypeError\u001b[0m                                 Traceback (most recent call last)",
      "Cell \u001b[1;32mIn[38], line 9\u001b[0m\n\u001b[0;32m      6\u001b[0m     \u001b[38;5;28;01mdef\u001b[39;00m \u001b[38;5;21mconfig\u001b[39m(\u001b[38;5;28mself\u001b[39m):     \n\u001b[0;32m      7\u001b[0m         \u001b[38;5;28mprint\u001b[39m(\u001b[38;5;124m'\u001b[39m\u001b[38;5;124mi5\u001b[39m\u001b[38;5;124m'\u001b[39m, \u001b[38;5;124m'\u001b[39m\u001b[38;5;124m8gb\u001b[39m\u001b[38;5;124m'\u001b[39m)\n\u001b[1;32m----> 9\u001b[0m lap1 \u001b[38;5;241m=\u001b[39m computer(\u001b[38;5;124m'\u001b[39m\u001b[38;5;124mi5\u001b[39m\u001b[38;5;124m'\u001b[39m, \u001b[38;5;241m8\u001b[39m) \u001b[38;5;66;03m# com1 has cpu i5 & ram is 8 \u001b[39;00m\n\u001b[0;32m     10\u001b[0m lap2 \u001b[38;5;241m=\u001b[39m computer(\u001b[38;5;124m'\u001b[39m\u001b[38;5;124mi7\u001b[39m\u001b[38;5;124m'\u001b[39m, \u001b[38;5;241m16\u001b[39m) \u001b[38;5;66;03m# com2 has cpu intel 5 & ram is 8 as we have 2 computer we have different ram & cpt\u001b[39;00m\n\u001b[0;32m     12\u001b[0m lap1\u001b[38;5;241m.\u001b[39mconfig() \n",
      "\u001b[1;31mTypeError\u001b[0m: computer.__init__() takes 1 positional argument but 3 were given"
     ]
    }
   ],
   "source": [
    "class computer():        \n",
    "    \n",
    "    def __init__(self): #__init__ means to initialize the variable\n",
    "        print('in init')\n",
    "    \n",
    "    def config(self):     \n",
    "        print('i5', '8gb')\n",
    "\n",
    "lap1 = computer('i5', 8) # com1 has cpu i5 & ram is 8 \n",
    "lap2 = computer('i7', 16) # com2 has cpu intel 5 & ram is 8 as we have 2 computer we have different ram & cpt\n",
    "\n",
    "lap1.config() \n",
    "lap2.config()"
   ]
  },
  {
   "cell_type": "code",
   "execution_count": 41,
   "id": "8f2159d6-9ad9-4757-bf25-f8ec5e180684",
   "metadata": {},
   "outputs": [
    {
     "name": "stdout",
     "output_type": "stream",
     "text": [
      "in init\n",
      "in init\n",
      "i5 8gb\n",
      "i7 16gb\n",
      "i5 8gb\n",
      "i7 16gb\n"
     ]
    }
   ],
   "source": [
    "class computer():        \n",
    "    \n",
    "    def __init__(self,cpu,ram): #__init__ means to initialize the variable\n",
    "        print('in init')\n",
    "    \n",
    "    def config(self):     \n",
    "        print('i5', '8gb')\n",
    "        print('i7', '16gb')\n",
    "\n",
    "lap1 = computer('i5', 8) # com1 has cpu i5 & ram is 8 \n",
    "lap2 = computer('i7', 16) # com2 has cpu intel 5 & ram is 8 as we have 2 computer we have different ram & cpt\n",
    "\n",
    "lap1.config() \n",
    "lap2.config()"
   ]
  },
  {
   "cell_type": "code",
   "execution_count": 46,
   "id": "27927c60-c994-4a4c-9755-5a4dcf4d2a7b",
   "metadata": {},
   "outputs": [
    {
     "name": "stdout",
     "output_type": "stream",
     "text": [
      "laptop config is:  i5 8 32000\n",
      "laptop config is:  i7 16 64000\n"
     ]
    }
   ],
   "source": [
    "class computer():        \n",
    "    \n",
    "    def __init__(self,cpu, ram, price): # cpu & ram as argument\n",
    "        self.cpu = cpu #hear self is the object & we need to refer to the object\n",
    "        self.ram = ram \n",
    "        self.price = price \n",
    "\n",
    "    def config(self):     \n",
    "        print('laptop config is: ', self.cpu, self.ram, self.price)\n",
    "\n",
    "com1 = computer('i5', 8, 32000)\n",
    "com2 = computer('i7', 16, 64000)\n",
    "\n",
    "\n",
    "com1.config() \n",
    "com2.config()\n",
    "\n",
    "#print(id(com1))\n",
    "#print(id(com2))"
   ]
  },
  {
   "cell_type": "markdown",
   "id": "e1e69c35-0d88-476c-bd9a-c65a75b9b363",
   "metadata": {},
   "source": [
    "# Today we are completed\n",
    "- class\n",
    "- object\n",
    "- method\n",
    "- method argument\n",
    "- self "
   ]
  },
  {
   "cell_type": "code",
   "execution_count": null,
   "id": "9d4ba24b-839d-49b4-9c16-644fdbf91cfa",
   "metadata": {},
   "outputs": [],
   "source": []
  },
  {
   "cell_type": "code",
   "execution_count": null,
   "id": "67535843-8251-45cc-98e5-eb4d22f25359",
   "metadata": {},
   "outputs": [],
   "source": []
  },
  {
   "cell_type": "code",
   "execution_count": null,
   "id": "ac6a4d5e-365e-458f-b26b-40d228271b73",
   "metadata": {},
   "outputs": [],
   "source": []
  },
  {
   "cell_type": "code",
   "execution_count": null,
   "id": "079a3477-98df-4789-948b-c4c1a8256e67",
   "metadata": {},
   "outputs": [],
   "source": []
  },
  {
   "cell_type": "code",
   "execution_count": null,
   "id": "9174fc3b-6819-4aeb-8919-345cb7946110",
   "metadata": {},
   "outputs": [],
   "source": []
  },
  {
   "cell_type": "code",
   "execution_count": null,
   "id": "2481dd6d-f396-4058-b913-e1f289403bbd",
   "metadata": {},
   "outputs": [],
   "source": []
  },
  {
   "cell_type": "code",
   "execution_count": null,
   "id": "9d8370a1-d88b-45a7-8a82-4fbe7a2f4958",
   "metadata": {},
   "outputs": [],
   "source": []
  },
  {
   "cell_type": "code",
   "execution_count": null,
   "id": "694a8b6c-672a-4759-ac78-f593bd05e21a",
   "metadata": {},
   "outputs": [],
   "source": []
  },
  {
   "cell_type": "code",
   "execution_count": null,
   "id": "24d654ce-998a-41ef-a59b-df784155c925",
   "metadata": {},
   "outputs": [],
   "source": []
  },
  {
   "cell_type": "code",
   "execution_count": null,
   "id": "848dc3e9-54cd-4f5c-9138-444d5a0466e0",
   "metadata": {},
   "outputs": [],
   "source": []
  },
  {
   "cell_type": "code",
   "execution_count": null,
   "id": "0bfe8c80-db41-4ab8-a9b3-1b53699b1290",
   "metadata": {},
   "outputs": [],
   "source": []
  },
  {
   "cell_type": "code",
   "execution_count": null,
   "id": "46ab8c21-2fd0-4635-a213-bf0fc0b434d1",
   "metadata": {},
   "outputs": [],
   "source": []
  },
  {
   "cell_type": "code",
   "execution_count": null,
   "id": "369a48ab-75be-42bb-a07a-469cf8ca263d",
   "metadata": {},
   "outputs": [],
   "source": []
  },
  {
   "cell_type": "code",
   "execution_count": null,
   "id": "87a73945-8d65-433d-814a-c9ca7a108a58",
   "metadata": {},
   "outputs": [],
   "source": []
  },
  {
   "cell_type": "code",
   "execution_count": null,
   "id": "f93a11d2-7732-44d0-8844-daab1f174a5a",
   "metadata": {},
   "outputs": [],
   "source": []
  }
 ],
 "metadata": {
  "kernelspec": {
   "display_name": "Python 3 (ipykernel)",
   "language": "python",
   "name": "python3"
  },
  "language_info": {
   "codemirror_mode": {
    "name": "ipython",
    "version": 3
   },
   "file_extension": ".py",
   "mimetype": "text/x-python",
   "name": "python",
   "nbconvert_exporter": "python",
   "pygments_lexer": "ipython3",
   "version": "3.12.7"
  }
 },
 "nbformat": 4,
 "nbformat_minor": 5
}

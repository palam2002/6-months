{
 "cells": [
  {
   "cell_type": "code",
   "execution_count": 3,
   "id": "b1f1b7b2-c863-4b1c-aa24-e36af693288d",
   "metadata": {},
   "outputs": [],
   "source": [
    "import pandas as pd\n",
    "from sklearn.model_selection import train_test_split\n",
    "from sklearn.linear_model import (LinearRegression, Ridge, Lasso, ElasticNet, SGDRegressor, HuberRegressor)\n",
    "from sklearn.ensemble import RandomForestRegressor\n",
    "from sklearn.svm import SVR\n",
    "from sklearn.preprocessing import PolynomialFeatures\n",
    "from sklearn.pipeline import Pipeline #data leakages \n",
    "from sklearn.neural_network import MLPRegressor\n",
    "from sklearn.neighbors import KNeighborsRegressor\n",
    "import lightgbm as lgb\n",
    "import xgboost as xgb\n",
    "from sklearn.metrics import mean_absolute_error, mean_squared_error, r2_score\n",
    "import pickle"
   ]
  },
  {
   "cell_type": "code",
   "execution_count": 4,
   "id": "cc216705-bdcc-437e-8610-f38285fb5971",
   "metadata": {},
   "outputs": [],
   "source": [
    "data = pd.read_csv('/Users/palammysurareddy/Downloads/15th, 16th, 17th - svr, dtr, rf,knn 2/HOUSING REGRESSOR/USA_Housing.csv')\n"
   ]
  },
  {
   "cell_type": "code",
   "execution_count": 5,
   "id": "e7196e0f-4c28-4966-b6e0-295f8590aaa7",
   "metadata": {},
   "outputs": [],
   "source": [
    "X = data.drop(['Price', 'Address'], axis=1) \n",
    "y = data['Price']"
   ]
  },
  {
   "cell_type": "code",
   "execution_count": 6,
   "id": "a347050a-e38d-4249-ae5d-8a43b75e9bcc",
   "metadata": {},
   "outputs": [],
   "source": [
    "X_train, X_test, y_train, y_test = train_test_split(X, y, test_size=0.2, random_state=0)"
   ]
  },
  {
   "cell_type": "code",
   "execution_count": 7,
   "id": "e05e9caa-a63c-4e8c-a103-5d9adb9abe72",
   "metadata": {},
   "outputs": [],
   "source": [
    "models = {\n",
    "    'LinearRegression': LinearRegression(),\n",
    "    'RobustRegression': HuberRegressor(),\n",
    "    'RidgeRegression': Ridge(),\n",
    "    'LassoRegression': Lasso(),\n",
    "    'ElasticNet': ElasticNet(),\n",
    "    'PolynomialRegression': Pipeline([\n",
    "        ('poly', PolynomialFeatures(degree=4)),\n",
    "        ('linear', LinearRegression())\n",
    "    ]),\n",
    "    'SGDRegressor': SGDRegressor(),\n",
    "    'ANN': MLPRegressor(hidden_layer_sizes=(100,), max_iter=1000),\n",
    "    'RandomForest': RandomForestRegressor(),\n",
    "    'SVM': SVR(),\n",
    "    'LGBM': lgb.LGBMRegressor(),\n",
    "    'XGBoost': xgb.XGBRegressor(),\n",
    "    'KNN': KNeighborsRegressor()\n",
    "}\n"
   ]
  },
  {
   "cell_type": "code",
   "execution_count": 8,
   "id": "8bedebe4-3254-4543-a68b-7b6f316b7e59",
   "metadata": {},
   "outputs": [
    {
     "name": "stdout",
     "output_type": "stream",
     "text": [
      "[LightGBM] [Warning] Found whitespace in feature_names, replace with underlines\n",
      "[LightGBM] [Info] Auto-choosing col-wise multi-threading, the overhead of testing was 0.000166 seconds.\n",
      "You can set `force_col_wise=true` to remove the overhead.\n",
      "[LightGBM] [Info] Total Bins 1256\n",
      "[LightGBM] [Info] Number of data points in the train set: 4000, number of used features: 5\n",
      "[LightGBM] [Info] Start training from score 1231911.452183\n"
     ]
    }
   ],
   "source": [
    "# Train and evaluate models\n",
    "results = []\n",
    "\n",
    "for name, model in models.items():\n",
    "    model.fit(X_train, y_train)\n",
    "    y_pred = model.predict(X_test)\n",
    "    \n",
    "    mae = mean_absolute_error(y_test, y_pred)\n",
    "    mse = mean_squared_error(y_test, y_pred)\n",
    "    r2 = r2_score(y_test, y_pred)\n",
    "    \n",
    "    results.append({\n",
    "        'Model': name,\n",
    "        'MAE': mae,\n",
    "        'MSE': mse,\n",
    "        'R2': r2\n",
    "    })"
   ]
  },
  {
   "cell_type": "code",
   "execution_count": 9,
   "id": "822c9d38-b718-44e7-8a4d-787ba765ca44",
   "metadata": {},
   "outputs": [],
   "source": [
    "  with open(f'{name}.pkl', 'wb') as f:\n",
    "        pickle.dump(model, f)\n",
    "\n",
    "# Convert results to DataFrame and save to CSV\n",
    "results_df = pd.DataFrame(results)\n",
    "results_df.to_csv('model_evaluation_results.csv', index=False)"
   ]
  },
  {
   "cell_type": "code",
   "execution_count": null,
   "id": "b02f950d-b2fb-498c-baad-f5da1a4b3d52",
   "metadata": {},
   "outputs": [],
   "source": [
    "from flask import Flask, render_template, request\n",
    "import pandas as pd\n",
    "import pickle\n",
    "\n",
    "app = Flask(__name__)\n",
    "\n",
    "# Load models\n",
    "model_names = [\n",
    "    'LinearRegression', 'RobustRegression', 'RidgeRegression', 'LassoRegression', 'ElasticNet', \n",
    "    'PolynomialRegression', 'SGDRegressor', 'ANN', 'RandomForest', 'SVM', 'LGBM', \n",
    "    'XGBoost', 'KNN'\n",
    "]\n",
    "models = {name: pickle.load(open(f'{name}.pkl', 'rb')) for name in model_names}\n",
    "\n",
    "# Load evaluation results\n",
    "results_df = pd.read_csv('model_evaluation_results.csv')\n",
    "\n",
    "@app.route('/')\n",
    "def index():\n",
    "    return render_template('index.html', model_names=model_names)\n",
    "\n",
    "@app.route('/predict', methods=['POST'])\n",
    "def predict():\n",
    "    model_name = request.form['model']\n",
    "    input_data = {\n",
    "        'Avg. Area Income': float(request.form['Avg. Area Income']),\n",
    "        'Avg. Area House Age': float(request.form['Avg. Area House Age']),\n",
    "        'Avg. Area Number of Rooms': float(request.form['Avg. Area Number of Rooms']),\n",
    "        'Avg. Area Number of Bedrooms': float(request.form['Avg. Area Number of Bedrooms']),\n",
    "        'Area Population': float(request.form['Area Population'])\n",
    "    }\n",
    "    input_df = pd.DataFrame([input_data])\n",
    "    \n",
    "    if model_name in models:\n",
    "        model = models[model_name]\n",
    "        prediction = model.predict(input_df)[0]\n",
    "        return render_template('results.html', prediction=prediction, model_name=model_name)\n",
    "    else:\n",
    "        return jsonify({'error': 'Model not found'}), 400\n",
    "\n",
    "@app.route('/results')\n",
    "def results():\n",
    "    return render_template('model.html', tables=[results_df.to_html(classes='data')], titles=results_df.columns.values)\n",
    "\n",
    "@app.route('/customer')\n",
    "def customer():\n",
    "    return render_template('customer.html', tables=[results_df.to_html(classes='data')], titles=results_df.columns.values)\n",
    "\n",
    "if __name__ == '__main__':\n",
    "    app.run(debug=True, host='127.0.0.1',port=3000)\n",
    "    \n",
    "    "
   ]
  },
  {
   "cell_type": "code",
   "execution_count": 11,
   "id": "ff7c16c6-40a7-4d03-8312-1a29e700d5b4",
   "metadata": {},
   "outputs": [],
   "source": [
    "app = Flask(__name__)"
   ]
  },
  {
   "cell_type": "code",
   "execution_count": null,
   "id": "1466cecf-419b-41d4-a088-26fffa9e8ed5",
   "metadata": {},
   "outputs": [],
   "source": []
  }
 ],
 "metadata": {
  "kernelspec": {
   "display_name": "Python 3 (ipykernel)",
   "language": "python",
   "name": "python3"
  },
  "language_info": {
   "codemirror_mode": {
    "name": "ipython",
    "version": 3
   },
   "file_extension": ".py",
   "mimetype": "text/x-python",
   "name": "python",
   "nbconvert_exporter": "python",
   "pygments_lexer": "ipython3",
   "version": "3.12.7"
  }
 },
 "nbformat": 4,
 "nbformat_minor": 5
}

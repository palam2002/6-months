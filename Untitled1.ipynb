{
 "cells": [
  {
   "cell_type": "code",
   "execution_count": 2,
   "id": "ea5fee09-a98a-4791-8065-1488e0a651ce",
   "metadata": {},
   "outputs": [
    {
     "data": {
      "text/plain": [
       "[]"
      ]
     },
     "execution_count": 2,
     "metadata": {},
     "output_type": "execute_result"
    }
   ],
   "source": [
    "i=[]\n",
    "i\n"
   ]
  },
  {
   "cell_type": "code",
   "execution_count": 3,
   "id": "c35b5ff4-f334-459b-baa1-bd32bfb54e5e",
   "metadata": {},
   "outputs": [
    {
     "data": {
      "text/plain": [
       "list"
      ]
     },
     "execution_count": 3,
     "metadata": {},
     "output_type": "execute_result"
    }
   ],
   "source": [
    "type(i)"
   ]
  },
  {
   "cell_type": "code",
   "execution_count": 8,
   "id": "256f8899-ff20-4ea1-900c-ad67d0423b5d",
   "metadata": {},
   "outputs": [
    {
     "data": {
      "text/plain": [
       "[12, 12, 45, 12, 45, 12, 45, 12, 45]"
      ]
     },
     "execution_count": 8,
     "metadata": {},
     "output_type": "execute_result"
    }
   ],
   "source": [
    "i.append(12)\n",
    "i.append(45)\n",
    "i"
   ]
  },
  {
   "cell_type": "code",
   "execution_count": 9,
   "id": "f7e5b9d8-b280-498c-a7ce-586b6cb6afe8",
   "metadata": {},
   "outputs": [
    {
     "data": {
      "text/plain": [
       "9"
      ]
     },
     "execution_count": 9,
     "metadata": {},
     "output_type": "execute_result"
    }
   ],
   "source": [
    "len(i)"
   ]
  },
  {
   "cell_type": "code",
   "execution_count": 10,
   "id": "8e4b2cc1-b1a9-41c1-a59f-296f2a400113",
   "metadata": {},
   "outputs": [],
   "source": [
    "i1=i.copy"
   ]
  },
  {
   "cell_type": "code",
   "execution_count": 21,
   "id": "88b8665a-3183-49f1-a806-1b2c9b5a580e",
   "metadata": {},
   "outputs": [
    {
     "name": "stdout",
     "output_type": "stream",
     "text": [
      "[2.3, 'int', True, 1]\n"
     ]
    }
   ],
   "source": [
    "i9=[]\n",
    "i9.append(2.3)\n",
    "i9.append('int')\n",
    "i9.append(True)\n",
    "i9.append(1)\n",
    "print(i9)"
   ]
  },
  {
   "cell_type": "code",
   "execution_count": 30,
   "id": "7f0bd79a-3b1a-45ab-b8f6-bbefcb3aaad9",
   "metadata": {},
   "outputs": [
    {
     "name": "stdout",
     "output_type": "stream",
     "text": [
      "[23, 34, 56, 23]\n"
     ]
    }
   ],
   "source": [
    "a=[23,34,56,23]\n",
    "a.count(23)\n",
    "print(a)"
   ]
  },
  {
   "cell_type": "code",
   "execution_count": 58,
   "id": "0610151e-e625-40f8-bc14-762c8a90b03c",
   "metadata": {},
   "outputs": [
    {
     "name": "stdout",
     "output_type": "stream",
     "text": [
      "[34, 45, 67]\n"
     ]
    }
   ],
   "source": [
    "a=[34,45,67,45]\n",
    "a.pop(3)\n",
    "print(a)"
   ]
  },
  {
   "cell_type": "code",
   "execution_count": 55,
   "id": "1d9087a7-4fbf-487a-a2cd-2ac0c370090c",
   "metadata": {},
   "outputs": [
    {
     "name": "stdout",
     "output_type": "stream",
     "text": [
      "[34, 45, 45]\n"
     ]
    }
   ],
   "source": [
    "b=[34,45,67,45]\n",
    "b.pop(2)\n",
    "print(b)"
   ]
  },
  {
   "cell_type": "code",
   "execution_count": 38,
   "id": "e784f54c-50e8-4068-bfa7-8183cd0503f5",
   "metadata": {},
   "outputs": [
    {
     "name": "stdout",
     "output_type": "stream",
     "text": [
      "[35, 56, 68]\n",
      "[35, 56, 68] [34, 67, 78]\n"
     ]
    }
   ],
   "source": [
    "a=[35,56,68]\n",
    "b=[34,67,78]\n",
    "a.copy()\n",
    "print(a)\n",
    "print(a,b)"
   ]
  },
  {
   "cell_type": "code",
   "execution_count": 44,
   "id": "707707ef-9cd4-4e08-acc3-3fee6d7430c3",
   "metadata": {},
   "outputs": [
    {
     "data": {
      "text/plain": [
       "1"
      ]
     },
     "execution_count": 44,
     "metadata": {},
     "output_type": "execute_result"
    }
   ],
   "source": [
    "i9[-1]"
   ]
  },
  {
   "cell_type": "code",
   "execution_count": 45,
   "id": "e42e653b-835f-41ff-a78f-aed8cf743274",
   "metadata": {},
   "outputs": [
    {
     "data": {
      "text/plain": [
       "True"
      ]
     },
     "execution_count": 45,
     "metadata": {},
     "output_type": "execute_result"
    }
   ],
   "source": [
    "i9[2]"
   ]
  },
  {
   "cell_type": "code",
   "execution_count": 50,
   "id": "a17ef121-415e-4c28-adfd-033d0b96d2b9",
   "metadata": {},
   "outputs": [
    {
     "data": {
      "text/plain": [
       "[230, 230, True, 1]"
      ]
     },
     "execution_count": 50,
     "metadata": {},
     "output_type": "execute_result"
    }
   ],
   "source": [
    "i9[0]=230\n",
    "i9"
   ]
  },
  {
   "cell_type": "code",
   "execution_count": 52,
   "id": "702843a1-afa9-4d42-92d7-e32d22b16b97",
   "metadata": {},
   "outputs": [
    {
     "data": {
      "text/plain": [
       "45"
      ]
     },
     "execution_count": 52,
     "metadata": {},
     "output_type": "execute_result"
    }
   ],
   "source": [
    "a.pop(1)"
   ]
  },
  {
   "cell_type": "code",
   "execution_count": 53,
   "id": "0dc46293-aed0-496a-b262-7840f8503ddc",
   "metadata": {},
   "outputs": [
    {
     "data": {
      "text/plain": [
       "[24, 56]"
      ]
     },
     "execution_count": 53,
     "metadata": {},
     "output_type": "execute_result"
    }
   ],
   "source": [
    "a"
   ]
  },
  {
   "cell_type": "code",
   "execution_count": 65,
   "id": "4c5269bc-498b-4ab3-b4ed-81c67482f995",
   "metadata": {},
   "outputs": [
    {
     "name": "stdout",
     "output_type": "stream",
     "text": [
      "[23, 45, 87, 90]\n",
      "[45, 87, 90]\n"
     ]
    }
   ],
   "source": [
    "a=[23,45,87,90]\n",
    "print(a)\n",
    "a.remove(23)\n",
    "print(a)"
   ]
  },
  {
   "cell_type": "code",
   "execution_count": 66,
   "id": "1e744321-5bd0-4d2d-ab6f-932b5a68469b",
   "metadata": {},
   "outputs": [
    {
     "name": "stdout",
     "output_type": "stream",
     "text": [
      "[45, 90]\n"
     ]
    }
   ],
   "source": [
    "a.remove(87)\n",
    "print(a)"
   ]
  },
  {
   "cell_type": "code",
   "execution_count": 3,
   "id": "4a5a30ee-44ff-4913-835b-3e6a434dd02a",
   "metadata": {},
   "outputs": [
    {
     "name": "stdout",
     "output_type": "stream",
     "text": [
      "[46, 67, 45]\n",
      "[45, 67, 46]\n"
     ]
    }
   ],
   "source": [
    "a=[46,67,45]\n",
    "print(a)\n",
    "a.reverse()\n",
    "print(a)"
   ]
  },
  {
   "cell_type": "code",
   "execution_count": 4,
   "id": "4e0058ef-8416-4a4f-acbd-2535b467f73a",
   "metadata": {},
   "outputs": [
    {
     "name": "stdout",
     "output_type": "stream",
     "text": [
      "[46, 67, 45]\n"
     ]
    }
   ],
   "source": [
    "a.reverse()\n",
    "print(a)"
   ]
  },
  {
   "cell_type": "code",
   "execution_count": 17,
   "id": "02cd0805-0652-4d8f-a7c7-e0320d2f5264",
   "metadata": {},
   "outputs": [
    {
     "name": "stdout",
     "output_type": "stream",
     "text": [
      "1\n"
     ]
    }
   ],
   "source": [
    "a=[34,56,78,98]\n",
    "print(a.index(56))"
   ]
  },
  {
   "cell_type": "code",
   "execution_count": 20,
   "id": "074baf0a-1abf-42d9-b4c8-e9078a2ba790",
   "metadata": {},
   "outputs": [
    {
     "name": "stdout",
     "output_type": "stream",
     "text": [
      "3\n"
     ]
    }
   ],
   "source": [
    "print(a.index(98)) "
   ]
  },
  {
   "cell_type": "code",
   "execution_count": 17,
   "id": "97287a32-df70-454b-b863-a2034e876be2",
   "metadata": {},
   "outputs": [
    {
     "name": "stdout",
     "output_type": "stream",
     "text": [
      "[67, 878, 65, 34]\n",
      "[67, 878, 6, 65, 34]\n"
     ]
    }
   ],
   "source": [
    "a=[67,878,65,34]\n",
    "print(a)\n",
    "a.insert(2,6)\n",
    "print(a)"
   ]
  },
  {
   "cell_type": "code",
   "execution_count": 29,
   "id": "088d3192-3ed0-4ad7-be48-5b53d9bd1ef3",
   "metadata": {},
   "outputs": [
    {
     "name": "stdout",
     "output_type": "stream",
     "text": [
      "[4, 67, 87, 98]\n"
     ]
    }
   ],
   "source": [
    "a=[67,87,4,98]\n",
    "a.sort()\n",
    "print(a)"
   ]
  },
  {
   "cell_type": "code",
   "execution_count": null,
   "id": "a79f16ed-ddcc-4d74-ba3e-502f456270f4",
   "metadata": {},
   "outputs": [],
   "source": [
    "tuple examples"
   ]
  },
  {
   "cell_type": "code",
   "execution_count": 2,
   "id": "008cf35c-a18f-430e-8171-fadf1d8b83b6",
   "metadata": {},
   "outputs": [
    {
     "name": "stdout",
     "output_type": "stream",
     "text": [
      "1\n"
     ]
    }
   ],
   "source": [
    "a=(12,34,6,8)\n",
    "print(a.count(12))"
   ]
  },
  {
   "cell_type": "code",
   "execution_count": 11,
   "id": "5205cead-dad5-4326-887e-b1d916af9607",
   "metadata": {},
   "outputs": [
    {
     "name": "stdout",
     "output_type": "stream",
     "text": [
      "0\n"
     ]
    }
   ],
   "source": [
    "a=(12,34,6,8)\n",
    "print(a.index(12))"
   ]
  },
  {
   "cell_type": "code",
   "execution_count": 3,
   "id": "562789a2-bdf4-4107-8cd4-6c4196503759",
   "metadata": {},
   "outputs": [
    {
     "name": "stdout",
     "output_type": "stream",
     "text": [
      "4\n"
     ]
    }
   ],
   "source": [
    "a={12,34,6,8}   \n",
    "print(len(a))"
   ]
  },
  {
   "cell_type": "code",
   "execution_count": 11,
   "id": "31e4b81a-8ccd-45c6-9fde-2886a349fd46",
   "metadata": {},
   "outputs": [
    {
     "name": "stdout",
     "output_type": "stream",
     "text": [
      "6\n"
     ]
    }
   ],
   "source": [
    "a=(12,34,6,8)\n",
    "print(min(a))"
   ]
  },
  {
   "cell_type": "code",
   "execution_count": 12,
   "id": "a6c4be13-bf71-4d7f-814f-461b19a5575b",
   "metadata": {},
   "outputs": [
    {
     "name": "stdout",
     "output_type": "stream",
     "text": [
      "34\n"
     ]
    }
   ],
   "source": [
    "a=(12,34,6,8)\n",
    "print(max(a))"
   ]
  },
  {
   "cell_type": "code",
   "execution_count": 22,
   "id": "17af0dd0-b533-426c-9945-8a3becceee38",
   "metadata": {},
   "outputs": [
    {
     "name": "stdout",
     "output_type": "stream",
     "text": [
      "60\n",
      "135\n"
     ]
    }
   ],
   "source": [
    "a=(12,34,6,8)\n",
    "print(sum(a))\n",
    "b=(23,45,67)\n",
    "print(sum(b))"
   ]
  },
  {
   "cell_type": "code",
   "execution_count": 19,
   "id": "6446e497-643e-4419-a61e-0538dbafdd0a",
   "metadata": {},
   "outputs": [
    {
     "ename": "AttributeError",
     "evalue": "'tuple' object has no attribute 'sort'",
     "output_type": "error",
     "traceback": [
      "\u001b[0;31m---------------------------------------------------------------------------\u001b[0m",
      "\u001b[0;31mAttributeError\u001b[0m                            Traceback (most recent call last)",
      "Cell \u001b[0;32mIn[19], line 2\u001b[0m\n\u001b[1;32m      1\u001b[0m a\u001b[38;5;241m=\u001b[39m(\u001b[38;5;241m12\u001b[39m,\u001b[38;5;241m46\u001b[39m,\u001b[38;5;241m67\u001b[39m)\n\u001b[0;32m----> 2\u001b[0m a\u001b[38;5;241m.\u001b[39msort()\n\u001b[1;32m      3\u001b[0m \u001b[38;5;28mprint\u001b[39m(a)\n",
      "\u001b[0;31mAttributeError\u001b[0m: 'tuple' object has no attribute 'sort'"
     ]
    }
   ],
   "source": [
    "a=(12,46,67)\n",
    "a.sort()\n",
    "print(a)\n"
   ]
  },
  {
   "cell_type": "code",
   "execution_count": null,
   "id": "6b5b5902-8e82-4225-92bf-340a614bc1f4",
   "metadata": {},
   "outputs": [],
   "source": [
    "set examples"
   ]
  },
  {
   "cell_type": "code",
   "execution_count": 15,
   "id": "eb1749c0-cc37-4eb6-8dc0-1c749fdee145",
   "metadata": {},
   "outputs": [
    {
     "name": "stdout",
     "output_type": "stream",
     "text": [
      "{56, 34, 12, 78}\n",
      "{34, 12, 78, 23, 56}\n"
     ]
    }
   ],
   "source": [
    "a={12,34,56,78}\n",
    "print(a)\n",
    "a.add(23)\n",
    "print(a)"
   ]
  },
  {
   "cell_type": "code",
   "execution_count": null,
   "id": "e3cfeab2-7f4f-4992-9085-67130c81e544",
   "metadata": {},
   "outputs": [],
   "source": []
  }
 ],
 "metadata": {
  "kernelspec": {
   "display_name": "Python [conda env:base] *",
   "language": "python",
   "name": "conda-base-py"
  },
  "language_info": {
   "codemirror_mode": {
    "name": "ipython",
    "version": 3
   },
   "file_extension": ".py",
   "mimetype": "text/x-python",
   "name": "python",
   "nbconvert_exporter": "python",
   "pygments_lexer": "ipython3",
   "version": "3.12.7"
  }
 },
 "nbformat": 4,
 "nbformat_minor": 5
}

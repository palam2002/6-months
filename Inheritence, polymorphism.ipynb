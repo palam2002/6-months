{
 "cells": [
  {
   "cell_type": "code",
   "execution_count": 1,
   "id": "850c2529-a861-490f-a9e4-3cd2dcf52f7c",
   "metadata": {},
   "outputs": [
    {
     "data": {
      "text/plain": [
       "int"
      ]
     },
     "execution_count": 1,
     "metadata": {},
     "output_type": "execute_result"
    }
   ],
   "source": [
    "a = 5\n",
    "type(a)"
   ]
  },
  {
   "cell_type": "code",
   "execution_count": 2,
   "id": "1632aa81-f4dd-42d3-8879-f5fe187e9afd",
   "metadata": {},
   "outputs": [
    {
     "name": "stdout",
     "output_type": "stream",
     "text": [
      "<class 'int'>\n"
     ]
    }
   ],
   "source": [
    "a = 5\n",
    "print(type(a))"
   ]
  },
  {
   "cell_type": "code",
   "execution_count": 3,
   "id": "43db496d-2fef-416a-b917-d6223e09074d",
   "metadata": {},
   "outputs": [
    {
     "name": "stdout",
     "output_type": "stream",
     "text": [
      "<class 'list'>\n"
     ]
    }
   ],
   "source": [
    "l = [1,2,3,]\n",
    "print(type(l))"
   ]
  },
  {
   "cell_type": "code",
   "execution_count": 1,
   "id": "a08f2f8d-7e17-4c0c-a5ed-3ae83b3ac145",
   "metadata": {},
   "outputs": [],
   "source": [
    "class computer():    \n",
    "    \n",
    "    def config():      \n",
    "        print('i5', '8gb')\n",
    "\n",
    "com1 = computer()"
   ]
  },
  {
   "cell_type": "code",
   "execution_count": 2,
   "id": "e0829f91-2d16-49cb-bf36-cefc70f4d544",
   "metadata": {},
   "outputs": [
    {
     "name": "stdout",
     "output_type": "stream",
     "text": [
      "i5 8gb\n"
     ]
    }
   ],
   "source": [
    "class computer():    \n",
    "    \n",
    "    def config():      \n",
    "        print('i5', '8gb')\n",
    "\n",
    "com1 = computer()\n",
    "\n",
    "computer.config()"
   ]
  },
  {
   "cell_type": "code",
   "execution_count": 3,
   "id": "b34c8d2c-979f-4b42-92a2-48c52a0afe04",
   "metadata": {},
   "outputs": [
    {
     "ename": "TypeError",
     "evalue": "computer.config() takes 0 positional arguments but 1 was given",
     "output_type": "error",
     "traceback": [
      "\u001b[1;31m---------------------------------------------------------------------------\u001b[0m",
      "\u001b[1;31mTypeError\u001b[0m                                 Traceback (most recent call last)",
      "Cell \u001b[1;32mIn[3], line 8\u001b[0m\n\u001b[0;32m      4\u001b[0m         \u001b[38;5;28mprint\u001b[39m(\u001b[38;5;124m'\u001b[39m\u001b[38;5;124mi5\u001b[39m\u001b[38;5;124m'\u001b[39m, \u001b[38;5;124m'\u001b[39m\u001b[38;5;124m8gb\u001b[39m\u001b[38;5;124m'\u001b[39m)\n\u001b[0;32m      6\u001b[0m com1 \u001b[38;5;241m=\u001b[39m computer()\n\u001b[1;32m----> 8\u001b[0m com1\u001b[38;5;241m.\u001b[39mconfig()\n",
      "\u001b[1;31mTypeError\u001b[0m: computer.config() takes 0 positional arguments but 1 was given"
     ]
    }
   ],
   "source": [
    "class computer():    \n",
    "    \n",
    "    def config():      \n",
    "        print('i5', '8gb')\n",
    "\n",
    "com1 = computer()\n",
    "\n",
    "com1.config()"
   ]
  },
  {
   "cell_type": "code",
   "execution_count": 4,
   "id": "d00d57b3-2025-4075-ba6f-ef19a7a02919",
   "metadata": {},
   "outputs": [
    {
     "name": "stdout",
     "output_type": "stream",
     "text": [
      "i5 8gb\n"
     ]
    }
   ],
   "source": [
    "class computer():    \n",
    "    \n",
    "    def config(self):      \n",
    "        print('i5', '8gb')\n",
    "\n",
    "com1 = computer()\n",
    "\n",
    "com1.config()"
   ]
  },
  {
   "cell_type": "code",
   "execution_count": 8,
   "id": "4d690a10-36db-4d38-a5be-d537ccd3688f",
   "metadata": {},
   "outputs": [
    {
     "name": "stdout",
     "output_type": "stream",
     "text": [
      "i5 8gb\n",
      "i5 8gb\n",
      "i5 8gb\n",
      "i5 8gb\n"
     ]
    }
   ],
   "source": [
    "class computer():    \n",
    "    \n",
    "    def config(self):      \n",
    "        print('i5', '8gb')\n",
    "\n",
    "com1 = computer()\n",
    "com2 = computer()\n",
    "com3 = computer()\n",
    "com4 = computer()\n",
    "\n",
    "com1.config()\n",
    "com2.config()\n",
    "com3.config()\n",
    "com4.config()"
   ]
  },
  {
   "cell_type": "code",
   "execution_count": 13,
   "id": "ba7caf5f-90f2-47fd-bae0-46bc820798e0",
   "metadata": {},
   "outputs": [
    {
     "name": "stdout",
     "output_type": "stream",
     "text": [
      "i5 8gb\n"
     ]
    }
   ],
   "source": [
    "class computer:        \n",
    "    def config(self):      \n",
    "        print('i5', '8gb')\n",
    "\n",
    "com1 = computer()\n",
    "com1.config()"
   ]
  },
  {
   "cell_type": "code",
   "execution_count": 15,
   "id": "b21f5d63-ba5a-48fb-816b-5e2e9869b0e5",
   "metadata": {},
   "outputs": [
    {
     "name": "stdout",
     "output_type": "stream",
     "text": [
      "i7 16gb\n"
     ]
    }
   ],
   "source": [
    "class computer:\n",
    "    def __init__(self):\n",
    "        print('i7', '16gb')\n",
    "       \n",
    "c1 = computer()"
   ]
  },
  {
   "cell_type": "code",
   "execution_count": 16,
   "id": "6cf3460b-47b2-4c70-9168-541aa05a94dc",
   "metadata": {},
   "outputs": [
    {
     "name": "stdout",
     "output_type": "stream",
     "text": [
      "i7 16gb\n",
      "i7 16gb\n",
      "i7 16gb\n"
     ]
    }
   ],
   "source": [
    "class computer:\n",
    "    def __init__(self):\n",
    "        print('i7', '16gb')\n",
    "       \n",
    "c1 = computer()\n",
    "c2 = computer()\n",
    "c3 = computer()"
   ]
  },
  {
   "cell_type": "code",
   "execution_count": 1,
   "id": "275493a7-5353-491b-bd3b-61ecb7dd1f2d",
   "metadata": {},
   "outputs": [
    {
     "name": "stdout",
     "output_type": "stream",
     "text": [
      "in A init\n",
      "in A init\n"
     ]
    }
   ],
   "source": [
    "class A(): #lets create a class hear it should be employee class or student class & lets create 2 methods\n",
    "    def __init__(self):\n",
    "        print('in A init')\n",
    "    def feature1(self):         # lets take example class A has 2 feature1 & feature 2\n",
    "        print('feature1 is hi')\n",
    "    def feature2(self):\n",
    "        print('feature2 is hi')\n",
    "\n",
    "class B(A):\n",
    "    def feature3(self):         # lets take example class A has 2 feature1 & feature 2\n",
    "        print('feature3 is hallo')\n",
    "    def feature4(self):\n",
    "        print('feature4 is hallo')\n",
    "        \n",
    "a1 = A() # A is the constructor\n",
    "b1 = B()"
   ]
  },
  {
   "cell_type": "code",
   "execution_count": 7,
   "id": "712872fb-1f03-4474-af1d-f09c86028ce6",
   "metadata": {},
   "outputs": [
    {
     "name": "stdout",
     "output_type": "stream",
     "text": [
      "in A init\n"
     ]
    }
   ],
   "source": [
    "class A() :\n",
    "    def __init__(self):\n",
    "        print('in A init')\n",
    "    def feature1(self):         \n",
    "        print('feature1 is hi')\n",
    "    def feature2(self):\n",
    "        print('feature2 is hi')\n",
    "\n",
    "class B(A):\n",
    "    def feature3(self):         \n",
    "        print('feature3 is hallo')\n",
    "    def feature4(self):\n",
    "        print('feature4 is hallo')\n",
    "        \n",
    "a1 = B() "
   ]
  },
  {
   "cell_type": "code",
   "execution_count": 3,
   "id": "db426705-a2a3-462b-9275-47f058b32c0c",
   "metadata": {},
   "outputs": [
    {
     "name": "stdout",
     "output_type": "stream",
     "text": [
      "in the A init\n",
      "in the B init\n"
     ]
    }
   ],
   "source": [
    "class A() : #lets create a class hear it should be employee class or student class & lets create 2 methods\n",
    "    def __init__(self):\n",
    "        print('in the A init')\n",
    "    def feature1(self):         # lets take example class A has 2 feature1 & feature 2\n",
    "        print('feature1 is hi')\n",
    "    def feature2(self):\n",
    "        print('feature2 is hi')\n",
    "\n",
    "class B(A):\n",
    "    def __init__(self):\n",
    "        print('in the B init')\n",
    "    def feature3(self):         # lets take example class A has 2 feature1 & feature 2\n",
    "        print('feature3 is hallo')\n",
    "    def feature4(self):\n",
    "        print('feature4 is hallo')\n",
    "        \n",
    "a1 = A()\n",
    "b1 = B()"
   ]
  },
  {
   "cell_type": "code",
   "execution_count": 4,
   "id": "f1d31dfa-9379-4c53-8a84-3ead9348e240",
   "metadata": {},
   "outputs": [
    {
     "name": "stdout",
     "output_type": "stream",
     "text": [
      "in the B init\n"
     ]
    }
   ],
   "source": [
    "class A(): #lets create a class hear it should be employee class or student class & lets create 2 methods\n",
    "    def __init__(self):\n",
    "        print('in the A init')\n",
    "    def feature1(self):         # lets take example class A has 2 feature1 & feature 2\n",
    "        print('feature1 is hi')\n",
    "    def feature2(self):\n",
    "        print('feature2 is hi')\n",
    "\n",
    "class B():\n",
    "    def __init__(self):\n",
    "        print('in the B init')\n",
    "    def feature3(self):         # lets take example class A has 2 feature1 & feature 2\n",
    "        print('feature3 is hallo')\n",
    "    def feature4(self):\n",
    "        print('feature4 is hallo')\n",
    "        \n",
    "a1 = B()"
   ]
  },
  {
   "cell_type": "code",
   "execution_count": 5,
   "id": "903b4db0-516a-448e-a71f-57adde91b7bb",
   "metadata": {},
   "outputs": [
    {
     "name": "stdout",
     "output_type": "stream",
     "text": [
      "in the B init\n"
     ]
    }
   ],
   "source": [
    "class A(): #lets create a class hear it should be employee class or student class & lets create 2 methods\n",
    "    def __init__(self):\n",
    "        print('in the A init')\n",
    "    def feature1(self):         # lets take example class A has 2 feature1 & feature 2\n",
    "        print('feature1 is hi')\n",
    "    def feature2(self):\n",
    "        print('feature2 is hi')\n",
    "\n",
    "class B(A):\n",
    "    def __init__(self):\n",
    "        print('in the B init')\n",
    "    def feature3(self):         # lets take example class A has 2 feature1 & feature 2\n",
    "        print('feature3 is hallo')\n",
    "    def feature4(self):\n",
    "        print('feature4 is hallo')\n",
    "        \n",
    "a1 = B()"
   ]
  },
  {
   "cell_type": "code",
   "execution_count": 8,
   "id": "f7b57616-d10d-459f-a89f-68087875e835",
   "metadata": {},
   "outputs": [
    {
     "name": "stdout",
     "output_type": "stream",
     "text": [
      "in the A init\n"
     ]
    }
   ],
   "source": [
    "class A(): #lets create a class hear it should be employee class or student class & lets create 2 methods\n",
    "    def __init__(self):\n",
    "        print('in the A init')\n",
    "    def feature1(self):         # lets take example class A has 2 feature1 & feature 2\n",
    "        print('feature1 is hi')\n",
    "    def feature2(self):\n",
    "        print('feature2 is hi')\n",
    "\n",
    "class B(A):\n",
    "    \n",
    "    def feature3(self):         # lets take example class A has 2 feature1 & feature 2\n",
    "        print('feature3 is hallo')\n",
    "    def feature4(self):\n",
    "        print('feature4 is hallo')\n",
    "        \n",
    "a1 = B()"
   ]
  },
  {
   "cell_type": "code",
   "execution_count": 9,
   "id": "3451bef1-0008-4e3d-945f-c18fabc52e72",
   "metadata": {},
   "outputs": [
    {
     "name": "stdout",
     "output_type": "stream",
     "text": [
      "in the A init\n",
      "in the B init\n"
     ]
    }
   ],
   "source": [
    "class A() : \n",
    "    def __init__(self):\n",
    "        print('in the A init')\n",
    "    def feature1(self):         # lets take example class A has 2 feature1 & feature 2\n",
    "        print('feature1 is hi')\n",
    "    def feature2(self):\n",
    "        print('feature2 is hi')\n",
    "\n",
    "class B(A):\n",
    "    def __init__(self):\n",
    "        super().__init__() #when we pass super() == print parent class information as well \n",
    "        print('in the B init')\n",
    "    def feature3(self):         # lets take example class A has 2 feature1 & feature 2\n",
    "        print('feature3 is hallo')\n",
    "    def feature4(self):\n",
    "        print('feature4 is hallo')\n",
    "        \n",
    "a1 = B()"
   ]
  },
  {
   "cell_type": "code",
   "execution_count": 10,
   "id": "bddbc291-09c1-46c6-8a19-833579290a39",
   "metadata": {},
   "outputs": [
    {
     "name": "stdout",
     "output_type": "stream",
     "text": [
      "in the A init\n",
      "in the C init\n"
     ]
    }
   ],
   "source": [
    "class A():\n",
    "    def __init__(self):\n",
    "        print('in the A init')\n",
    "    def feature1(self):         # lets take example class A has 2 feature1 & feature 2\n",
    "        print('feature 1-A is hi') #class A & class B hase same method\n",
    "    def feature2(self):\n",
    "        print('feature2 is hi')\n",
    "\n",
    "class B():\n",
    "    def __init__(self):\n",
    "        print('in the B init')\n",
    "    def feature1(self):         # lets take example class A has 2 feature1 & feature 1\n",
    "        print('feature 3-B is hallo')\n",
    "    def feature4(self):\n",
    "        print('feature4 is hallo')\n",
    "        \n",
    "class C(A,B):\n",
    "    def __init__(self):\n",
    "        super().__init__()\n",
    "        print('in the C init')\n",
    "                \n",
    "a1 = C()"
   ]
  },
  {
   "cell_type": "code",
   "execution_count": 11,
   "id": "63d342db-e2e2-4082-812c-e4bd32bcd51d",
   "metadata": {},
   "outputs": [
    {
     "name": "stdout",
     "output_type": "stream",
     "text": [
      "i am duck & i can swim\n",
      "quack quack\n"
     ]
    }
   ],
   "source": [
    "# DUCK TYPING \n",
    "\n",
    "class duck:\n",
    "    def swim(self):\n",
    "        print('i am duck & i can swim')\n",
    "    def speaks(self):\n",
    "        print('quack quack')\n",
    "\n",
    "class dog:\n",
    "    def swim(self):\n",
    "        print('i am dog & i can swim')\n",
    "    def speaks(self):\n",
    "        print('woof woof')\n",
    "\n",
    "\n",
    "def display(duck): # we define outside of the class\n",
    "    duck.swim()\n",
    "    duck.speaks()\n",
    "    #print('informatation')\n",
    "\n",
    "d = duck()\n",
    "display(d)       "
   ]
  },
  {
   "cell_type": "code",
   "execution_count": 12,
   "id": "75e03b79-aa81-4f77-9771-640da91787f1",
   "metadata": {},
   "outputs": [
    {
     "name": "stdout",
     "output_type": "stream",
     "text": [
      "i am dog & i can swim\n",
      "woof woof\n"
     ]
    }
   ],
   "source": [
    "class duck:\n",
    "    def swim(self):\n",
    "        print('i am duck & i can swim')\n",
    "    def speaks(self):\n",
    "        print('quack quack')\n",
    "\n",
    "class dog:\n",
    "    def swim(self):\n",
    "        print('i am dog & i can swim')\n",
    "    def speaks(self):\n",
    "        print('woof woof')\n",
    "\n",
    "\n",
    "def display(duck): # we define outside of the class\n",
    "    duck.swim()\n",
    "    duck.speaks()\n",
    "    #print('informatation')\n",
    "\n",
    "d = duck()\n",
    "dg = dog()\n",
    "\n",
    "display(dg)  "
   ]
  },
  {
   "cell_type": "code",
   "execution_count": 13,
   "id": "30498a11-9fe8-44be-9a78-fd5f84c5efbf",
   "metadata": {},
   "outputs": [
    {
     "ename": "AttributeError",
     "evalue": "'person' object has no attribute 'swim'",
     "output_type": "error",
     "traceback": [
      "\u001b[1;31m---------------------------------------------------------------------------\u001b[0m",
      "\u001b[1;31mAttributeError\u001b[0m                            Traceback (most recent call last)",
      "Cell \u001b[1;32mIn[13], line 26\u001b[0m\n\u001b[0;32m     23\u001b[0m dg \u001b[38;5;241m=\u001b[39m dog()\n\u001b[0;32m     24\u001b[0m p \u001b[38;5;241m=\u001b[39m person()\n\u001b[1;32m---> 26\u001b[0m display(p)\n",
      "Cell \u001b[1;32mIn[13], line 18\u001b[0m, in \u001b[0;36mdisplay\u001b[1;34m(obj)\u001b[0m\n\u001b[0;32m     17\u001b[0m \u001b[38;5;28;01mdef\u001b[39;00m \u001b[38;5;21mdisplay\u001b[39m(obj): \u001b[38;5;66;03m# we define outside of the class\u001b[39;00m\n\u001b[1;32m---> 18\u001b[0m     obj\u001b[38;5;241m.\u001b[39mswim()\n\u001b[0;32m     19\u001b[0m     obj\u001b[38;5;241m.\u001b[39mspeaks()\n\u001b[0;32m     20\u001b[0m     obj\u001b[38;5;241m.\u001b[39mperson()\n",
      "\u001b[1;31mAttributeError\u001b[0m: 'person' object has no attribute 'swim'"
     ]
    }
   ],
   "source": [
    "class duck:\n",
    "    def swim(self):\n",
    "        print('i am duck & i can swim')\n",
    "    def speaks(self):\n",
    "        print('quack quack')\n",
    "\n",
    "class dog:\n",
    "    def swim(self):\n",
    "        print('i am dog & i can swim')\n",
    "    def speaks(self):\n",
    "        print('woof woof')\n",
    "\n",
    "class person:\n",
    "    def speaks(self):\n",
    "        print('attend more interview to get placed') \n",
    "        \n",
    "def display(obj): # we define outside of the class\n",
    "    obj.swim()\n",
    "    obj.speaks()\n",
    "    obj.person()\n",
    "    \n",
    "d = duck()\n",
    "dg = dog()\n",
    "p = person()\n",
    "\n",
    "display(p)   "
   ]
  },
  {
   "cell_type": "code",
   "execution_count": 14,
   "id": "d7b38ca0-d385-435f-aab8-04d7c03f3fb5",
   "metadata": {},
   "outputs": [
    {
     "name": "stdout",
     "output_type": "stream",
     "text": [
      "need to learn for swimming\n",
      "attend more interview to get placed\n"
     ]
    }
   ],
   "source": [
    "class duck:\n",
    "    def swim(self):\n",
    "        print('i am duck & i can swim')\n",
    "    def speaks(self):\n",
    "        print('quack quack')\n",
    "\n",
    "class dog:\n",
    "    def swim(self):\n",
    "        print('i am dog & i can swim')\n",
    "    def speaks(self):\n",
    "        print('woof woof')\n",
    "\n",
    "class person:\n",
    "    def speaks(self):\n",
    "        print('attend more interview to get placed')\n",
    "    def swim(self):\n",
    "        print('need to learn for swimming')\n",
    "         \n",
    "def display(obj): # we define outside of the class\n",
    "    obj.swim()\n",
    "    obj.speaks()\n",
    "    #obj.person()\n",
    "    \n",
    "d = duck()\n",
    "dg = dog()\n",
    "p = person()\n",
    "\n",
    "display(p)   "
   ]
  },
  {
   "cell_type": "code",
   "execution_count": 15,
   "id": "8b57eb55-52a7-4eb8-b63b-16038089f0b7",
   "metadata": {},
   "outputs": [
    {
     "ename": "TypeError",
     "evalue": "unsupported operand type(s) for +: 'student' and 'student'",
     "output_type": "error",
     "traceback": [
      "\u001b[1;31m---------------------------------------------------------------------------\u001b[0m",
      "\u001b[1;31mTypeError\u001b[0m                                 Traceback (most recent call last)",
      "Cell \u001b[1;32mIn[15], line 11\u001b[0m\n\u001b[0;32m      8\u001b[0m s1 \u001b[38;5;241m=\u001b[39m student(\u001b[38;5;241m60\u001b[39m,\u001b[38;5;241m70\u001b[39m)\n\u001b[0;32m      9\u001b[0m s2 \u001b[38;5;241m=\u001b[39m student(\u001b[38;5;241m80\u001b[39m,\u001b[38;5;241m90\u001b[39m)\n\u001b[1;32m---> 11\u001b[0m s3 \u001b[38;5;241m=\u001b[39m s1 \u001b[38;5;241m+\u001b[39m s2\n",
      "\u001b[1;31mTypeError\u001b[0m: unsupported operand type(s) for +: 'student' and 'student'"
     ]
    }
   ],
   "source": [
    "# operator overloading\n",
    "\n",
    "class student:\n",
    "    def __init__(self,m1,m2):\n",
    "        self.m1 = m1\n",
    "        self.m2 = m2\n",
    "\n",
    "s1 = student(60,70)\n",
    "s2 = student(80,90)\n",
    "\n",
    "s3 = s1 + s2 # is this possible to use add operator with the class\n"
   ]
  },
  {
   "cell_type": "code",
   "execution_count": 16,
   "id": "7462b6c4-efd3-4009-befb-00fc3ce8f476",
   "metadata": {},
   "outputs": [
    {
     "name": "stdout",
     "output_type": "stream",
     "text": [
      "140\n",
      "160\n"
     ]
    }
   ],
   "source": [
    "class student:\n",
    "    def __init__(self,m1,m2):\n",
    "        self.m1 = m1\n",
    "        self.m2 = m2\n",
    "        \n",
    "    def __add__(self, other): ## WE DEFINE THE ADD METHOD . THIS CONCEPT IS CALLED OPERATOR OVERLOADING\n",
    "        m1 = self.m1 + other.m1\n",
    "        m2 = self.m2 + other.m2\n",
    "        s3 = student(m1,m2)\n",
    "        \n",
    "        return s3   \n",
    " \n",
    "s1 = student(60,70)\n",
    "s2 = student(80,90)\n",
    "\n",
    "s3 = s1 + s2 \n",
    "\n",
    "print(s3.m1)\n",
    "print(s3.m2)"
   ]
  },
  {
   "cell_type": "code",
   "execution_count": 19,
   "id": "3aaebcb0-2575-4beb-90df-6226f6577f3e",
   "metadata": {},
   "outputs": [
    {
     "name": "stdout",
     "output_type": "stream",
     "text": [
      "s2 pass\n"
     ]
    }
   ],
   "source": [
    "#if the see the above error we got error as > is not support so we need to define the > method (gt)\n",
    "class student:\n",
    "    def __init__(self,m1,m2):\n",
    "        self.m1 = m1\n",
    "        self.m2 = m2\n",
    "        \n",
    "    def __add__(self, other): ## WE DEFINE THE ADD METHOD . THIS CONCEPT IS CALLED OPERATOR OVERLOADING\n",
    "        m1 = self.m1 + other.m1\n",
    "        m2 = self.m2 + other.m2\n",
    "        \n",
    "        s3 = student(m1,m2)\n",
    "        \n",
    "        return s3  \n",
    "        \n",
    "    def __gt__(self,other):\n",
    "        r1 = self.m1 + self.m2\n",
    "        r2 = other.m1 + other.m2\n",
    "        if r1 > r2:\n",
    "            return True\n",
    "        else:\n",
    "            return False\n",
    " \n",
    "s1 = student(90,95)\n",
    "s2 = student(80,90)\n",
    "\n",
    "s3 = s1 + s2 \n",
    "\n",
    "if s1<s2:\n",
    "    print('s1 pass')\n",
    "else:\n",
    "    print('s2 pass')\n",
    "    \n",
    "# we are not define it so how to check it \n"
   ]
  },
  {
   "cell_type": "code",
   "execution_count": 22,
   "id": "3d861ac9-544e-43ad-814a-c6af31ced7fc",
   "metadata": {},
   "outputs": [
    {
     "name": "stdout",
     "output_type": "stream",
     "text": [
      "10\n",
      "30\n",
      "30\n",
      "40\n",
      "100\n"
     ]
    }
   ],
   "source": [
    "class student:\n",
    "    def __init__(self,m1,m2):\n",
    "        self.m1 = m1\n",
    "        self.m2 = m2\n",
    "        \n",
    "    def sum(self, a=None, b=None,c=None,d = None):\n",
    "        if a!=None and b!=None and c!=None and d!=None:\n",
    "            s = a +b +c + d \n",
    "        elif a!=None and b!=None:\n",
    "            s = a+b\n",
    "        elif a!= None and c!= None:\n",
    "            s = a + c\n",
    "        else:\n",
    "            s = a\n",
    "            \n",
    "        return s\n",
    "    \n",
    "s1 = student(50, 60)\n",
    "\n",
    "print(s1.sum(10)) # hear we can pass 1 parameter\n",
    "print(s1.sum(10,20)) # hear we can pass 2 parameter\n",
    "print(s1.sum(10,20,30)) # hear we can pass 3 parameter\n",
    "print(s1.sum(10,30))\n",
    "print(s1.sum(10,20,30,40))\n",
    "\n",
    "\n",
    "#print(s1.sum(10,20,30,40))\n",
    "\n",
    "# THIS CONCEPT CALLED AS METHOD OVERLOADING"
   ]
  },
  {
   "cell_type": "markdown",
   "id": "fe0e81cb-8fb2-4e33-96b8-ba45f1f6a3d8",
   "metadata": {},
   "source": [
    "# Inheritence _ 11th"
   ]
  },
  {
   "cell_type": "code",
   "execution_count": 1,
   "id": "6643832d-01f2-4be2-8325-f0994df11d79",
   "metadata": {},
   "outputs": [
    {
     "name": "stdout",
     "output_type": "stream",
     "text": [
      "feature1 is hi\n",
      "feature2 is hi\n"
     ]
    }
   ],
   "source": [
    "class A() : \n",
    "    def feature1(self):         # lets take example class A has 2 feature1 & feature 2\n",
    "        print('feature1 is hi')\n",
    "    def feature2(self):\n",
    "        print('feature2 is hi')\n",
    "\n",
    "     # the way you access the feature is object \n",
    "\n",
    "a1 = A()  #a1 is the object & A is constructor & using a1 we can call the feature1 & feature 2\n",
    "\n",
    "a1.feature1()\n",
    "a1.feature2()"
   ]
  },
  {
   "cell_type": "code",
   "execution_count": null,
   "id": "ed9abfdf-0a14-4fe6-afcf-a9e7817ea62e",
   "metadata": {},
   "outputs": [],
   "source": [
    "class A() : \n",
    "    def feature1(self):         # lets take example class A has 2 feature1 & feature 2\n",
    "        print('feature1 is hi')\n",
    "    def feature2(self):\n",
    "        print('feature2 is hi')\n",
    "\n",
    "class B():\n",
    "    def feature3(self):\n",
    "        print('feature3 is hello')\n",
    "    def feature4(self):\n",
    "        print('feature4 is hello')     # the way you access the feature is object \n",
    "\n",
    "a1 = A()  #a1 is the object & A is constructor & using a1 we can call the feature1 & feature 2\n",
    "b1 = B()\n",
    "\n",
    "a1.\n",
    "b1."
   ]
  },
  {
   "cell_type": "code",
   "execution_count": null,
   "id": "ecbdd658-0f78-4a46-879d-966e1f60e136",
   "metadata": {},
   "outputs": [],
   "source": [
    "class A() : \n",
    "    def feature1(self):         # lets take example class A has 2 feature1 & feature 2\n",
    "        print('feature1 is hi')\n",
    "    def feature2(self):\n",
    "        print('feature2 is hi')\n",
    "\n",
    "class B(A):\n",
    "    def feature3(self):\n",
    "        print('feature3 is hello')\n",
    "    def feature4(self):\n",
    "        print('feature4 is hello')     # the way you access the feature is object \n",
    "\n",
    "a1 = A()  #a1 is the object & A is constructor & using a1 we can call the feature1 & feature 2\n",
    "b1 = B()\n",
    "\n",
    "a1.\n",
    "b1."
   ]
  },
  {
   "cell_type": "code",
   "execution_count": 2,
   "id": "97bfead4-a5f1-4bbf-b867-15bc38caca28",
   "metadata": {},
   "outputs": [
    {
     "name": "stdout",
     "output_type": "stream",
     "text": [
      "feature1 is hi\n",
      "feature3 is hallo\n"
     ]
    }
   ],
   "source": [
    "class A() : #lets create a class hear it should be employee class or student class & lets create 2 methods\n",
    "    def feature1(self):         # lets take example class A has 2 feature1 & feature 2\n",
    "        print('feature1 is hi')\n",
    "    def feature2(self):\n",
    "        print('feature2 is hi')\n",
    "\n",
    "class B():\n",
    "    def feature3(self):         # lets take example class A has 2 feature1 & feature 2\n",
    "        print('feature3 is hallo')\n",
    "    def feature4(self):\n",
    "        print('feature4 is hallo')\n",
    "\n",
    "class C(A):\n",
    "    def feature5(self):\n",
    "        print('feature5 is how are you')\n",
    "\n",
    "a1 = A()\n",
    "b1 = B()\n",
    "c1 = C()\n",
    "\n"
   ]
  },
  {
   "cell_type": "code",
   "execution_count": null,
   "id": "9699565b-7dde-4075-b80e-86d97cc416c8",
   "metadata": {},
   "outputs": [],
   "source": [
    "class A() : #lets create a class hear it should be employee class or student class & lets create 2 methods\n",
    "    def feature1(self):         # lets take example class A has 2 feature1 & feature 2\n",
    "        print('feature1 is hi')\n",
    "    def feature2(self):\n",
    "        print('feature2 is hi')\n",
    "\n",
    "class B():\n",
    "    def feature3(self):         # lets take example class A has 2 feature1 & feature 2\n",
    "        print('feature3 is hallo')\n",
    "    def feature4(self):\n",
    "        print('feature4 is hallo')\n",
    "\n",
    "class C(A,B):\n",
    "    def feature5(self):\n",
    "        print('feature5 is how are you')\n",
    "\n",
    "a1 = A()\n",
    "b1 = B()\n",
    "c1 = C()\n",
    "\n"
   ]
  },
  {
   "cell_type": "code",
   "execution_count": 5,
   "id": "07a7d357-2653-4806-bf43-63b991ea3da4",
   "metadata": {},
   "outputs": [
    {
     "name": "stdout",
     "output_type": "stream",
     "text": [
      "in A init\n",
      "in A init\n"
     ]
    }
   ],
   "source": [
    "class A(): #lets create a class hear it should be employee class or student class & lets create 2 methods\n",
    "    def __init__(self):\n",
    "        print('in A init')\n",
    "    def feature1(self):         # lets take example class A has 2 feature1 & feature 2\n",
    "        print('feature1 is hi')\n",
    "    def feature2(self):\n",
    "        print('feature2 is hi')\n",
    "\n",
    "class B(A):\n",
    "    def feature3(self):         # lets take example class A has 2 feature1 & feature 2\n",
    "        print('feature3 is hallo')\n",
    "    def feature4(self):\n",
    "        print('feature4 is hallo')\n",
    "        \n",
    "a1 = A() # A is the constructor\n",
    "b1 = B()"
   ]
  },
  {
   "cell_type": "code",
   "execution_count": 6,
   "id": "fd326b4d-89fe-46bb-94f9-d6af8862ee43",
   "metadata": {},
   "outputs": [
    {
     "name": "stdout",
     "output_type": "stream",
     "text": [
      "in A init\n"
     ]
    }
   ],
   "source": [
    "class A() :\n",
    "    def __init__(self):\n",
    "        print('in A init')\n",
    "    def feature1(self):         \n",
    "        print('feature1 is hi')\n",
    "    def feature2(self):\n",
    "        print('feature2 is hi')\n",
    "\n",
    "class B(A):\n",
    "    def feature3(self):         \n",
    "        print('feature3 is hallo')\n",
    "    def feature4(self):\n",
    "        print('feature4 is hallo')\n",
    "        \n",
    "a1 = B() "
   ]
  },
  {
   "cell_type": "code",
   "execution_count": 7,
   "id": "ca8d9095-1934-4bc8-afcb-c3c802cfce39",
   "metadata": {},
   "outputs": [
    {
     "name": "stdout",
     "output_type": "stream",
     "text": [
      "in A init\n",
      "in B init\n"
     ]
    }
   ],
   "source": [
    "class A() :\n",
    "    def __init__(self):\n",
    "        print('in A init')\n",
    "    def feature1(self):         \n",
    "        print('feature1 is hi')\n",
    "    def feature2(self):\n",
    "        print('feature2 is hi')\n",
    "\n",
    "class B():\n",
    "    def __init__(self):\n",
    "        print('in B init')\n",
    "    def feature3(self):         \n",
    "        print('feature3 is hallo')\n",
    "    def feature4(self):\n",
    "        print('feature4 is hallo')\n",
    "\n",
    "a1 = A()\n",
    "b1 = B() "
   ]
  },
  {
   "cell_type": "code",
   "execution_count": 8,
   "id": "0ceeda7a-88ab-47cd-b4da-52273a8e0106",
   "metadata": {},
   "outputs": [
    {
     "name": "stdout",
     "output_type": "stream",
     "text": [
      "in A init\n",
      "in B init\n"
     ]
    }
   ],
   "source": [
    "class A() :\n",
    "    def __init__(self):\n",
    "        print('in A init')\n",
    "    def feature1(self):         \n",
    "        print('feature1 is hi')\n",
    "    def feature2(self):\n",
    "        print('feature2 is hi')\n",
    "\n",
    "class B(A):\n",
    "    def __init__(self):\n",
    "        print('in B init')\n",
    "    def feature3(self):         \n",
    "        print('feature3 is hallo')\n",
    "    def feature4(self):\n",
    "        print('feature4 is hallo')\n",
    "\n",
    "a1 = A()\n",
    "b1 = B() "
   ]
  },
  {
   "cell_type": "code",
   "execution_count": 9,
   "id": "6f10779e-4ae8-4ec3-9242-26e3b9125456",
   "metadata": {},
   "outputs": [
    {
     "name": "stdout",
     "output_type": "stream",
     "text": [
      "in B init\n"
     ]
    }
   ],
   "source": [
    "class A() :\n",
    "    def __init__(self):\n",
    "        print('in A init')\n",
    "    def feature1(self):         \n",
    "        print('feature1 is hi')\n",
    "    def feature2(self):\n",
    "        print('feature2 is hi')\n",
    "\n",
    "class B(A):\n",
    "    def __init__(self):\n",
    "        print('in B init')\n",
    "    def feature3(self):         \n",
    "        print('feature3 is hallo')\n",
    "    def feature4(self):\n",
    "        print('feature4 is hallo')\n",
    "\n",
    "b1 = B() "
   ]
  },
  {
   "cell_type": "code",
   "execution_count": 10,
   "id": "22a46b0b-7a6a-4ac0-90ee-4efeb7d66313",
   "metadata": {},
   "outputs": [
    {
     "name": "stdout",
     "output_type": "stream",
     "text": [
      "in A init\n",
      "in B init\n"
     ]
    }
   ],
   "source": [
    "class A() :\n",
    "    def __init__(self):\n",
    "        print('in A init')\n",
    "    def feature1(self):         \n",
    "        print('feature1 is hi')\n",
    "    def feature2(self):\n",
    "        print('feature2 is hi')\n",
    "\n",
    "class B(A):\n",
    "    def __init__(self):\n",
    "        super().__init__()\n",
    "        print('in B init')\n",
    "    def feature3(self):         \n",
    "        print('feature3 is hallo')\n",
    "    def feature4(self):\n",
    "        print('feature4 is hallo')\n",
    "\n",
    "b1 = B() "
   ]
  },
  {
   "cell_type": "code",
   "execution_count": 11,
   "id": "6c2c2784-3103-490f-b8fa-64f17ffec154",
   "metadata": {},
   "outputs": [
    {
     "name": "stdout",
     "output_type": "stream",
     "text": [
      "i am duck & i can swim\n",
      "quack quack\n"
     ]
    }
   ],
   "source": [
    "class duck:\n",
    "    def swim(self):\n",
    "        print('i am duck & i can swim')\n",
    "    def speaks(self):\n",
    "        print('quack quack')\n",
    "\n",
    "class dog:\n",
    "    def swim(self):\n",
    "        print('i am dog & i can swim')\n",
    "    def speaks(self):\n",
    "        print('woof woof')\n",
    "\n",
    "\n",
    "def display(duck): # we define outside of the class\n",
    "    duck.swim()\n",
    "    duck.speaks()\n",
    "    #print('informatation')\n",
    "\n",
    "d = duck()\n",
    "display(d)       "
   ]
  },
  {
   "cell_type": "code",
   "execution_count": 12,
   "id": "67b3f169-2e20-4c84-8b05-07b2896ebb54",
   "metadata": {},
   "outputs": [
    {
     "ename": "AttributeError",
     "evalue": "'person' object has no attribute 'swim'",
     "output_type": "error",
     "traceback": [
      "\u001b[1;31m---------------------------------------------------------------------------\u001b[0m",
      "\u001b[1;31mAttributeError\u001b[0m                            Traceback (most recent call last)",
      "Cell \u001b[1;32mIn[12], line 26\u001b[0m\n\u001b[0;32m     23\u001b[0m dg \u001b[38;5;241m=\u001b[39m dog()\n\u001b[0;32m     24\u001b[0m p \u001b[38;5;241m=\u001b[39m person()\n\u001b[1;32m---> 26\u001b[0m display(p)\n",
      "Cell \u001b[1;32mIn[12], line 18\u001b[0m, in \u001b[0;36mdisplay\u001b[1;34m(obj)\u001b[0m\n\u001b[0;32m     17\u001b[0m \u001b[38;5;28;01mdef\u001b[39;00m \u001b[38;5;21mdisplay\u001b[39m(obj): \u001b[38;5;66;03m# we define outside of the class\u001b[39;00m\n\u001b[1;32m---> 18\u001b[0m     obj\u001b[38;5;241m.\u001b[39mswim()\n\u001b[0;32m     19\u001b[0m     obj\u001b[38;5;241m.\u001b[39mspeaks()\n\u001b[0;32m     20\u001b[0m     obj\u001b[38;5;241m.\u001b[39mperson()\n",
      "\u001b[1;31mAttributeError\u001b[0m: 'person' object has no attribute 'swim'"
     ]
    }
   ],
   "source": [
    "class duck:\n",
    "    def swim(self):\n",
    "        print('i am duck & i can swim')\n",
    "    def speaks(self):\n",
    "        print('quack quack')\n",
    "\n",
    "class dog:\n",
    "    def swim(self):\n",
    "        print('i am dog & i can swim')\n",
    "    def speaks(self):\n",
    "        print('woof woof')\n",
    "\n",
    "class person:\n",
    "    def speaks(self):\n",
    "        print('attend more interview to get placed')\n",
    "        \n",
    "def display(obj): # we define outside of the class\n",
    "    obj.swim()\n",
    "    obj.speaks()\n",
    "    obj.person()\n",
    "    \n",
    "d = duck()\n",
    "dg = dog()\n",
    "p = person()\n",
    "\n",
    "display(p)   "
   ]
  },
  {
   "cell_type": "code",
   "execution_count": 13,
   "id": "d4a401a8-f79e-4220-9b16-1a4f12b57aeb",
   "metadata": {},
   "outputs": [
    {
     "name": "stdout",
     "output_type": "stream",
     "text": [
      "need to learn for swimming\n",
      "attend more interview to get placed\n"
     ]
    }
   ],
   "source": [
    "class duck:\n",
    "    def swim(self):\n",
    "        print('i am duck & i can swim')\n",
    "    def speaks(self):\n",
    "        print('quack quack')\n",
    "\n",
    "class dog:\n",
    "    def swim(self):\n",
    "        print('i am dog & i can swim')\n",
    "    def speaks(self):\n",
    "        print('woof woof')\n",
    "\n",
    "class person:\n",
    "    def speaks(self):\n",
    "        print('attend more interview to get placed')\n",
    "    def swim(self):\n",
    "        print('need to learn for swimming')\n",
    "         \n",
    "def display(obj): # we define outside of the class\n",
    "    obj.swim()\n",
    "    obj.speaks()\n",
    "    #obj.person()\n",
    "    \n",
    "d = duck()\n",
    "dg = dog()\n",
    "p = person()\n",
    "\n",
    "display(p)   "
   ]
  },
  {
   "cell_type": "code",
   "execution_count": 14,
   "id": "2ece6627-02a8-44d9-a312-6fcc60499a6f",
   "metadata": {},
   "outputs": [
    {
     "name": "stdout",
     "output_type": "stream",
     "text": [
      "Woof!\n",
      "Meow!\n",
      "Quack!\n"
     ]
    }
   ],
   "source": [
    "class Dog:\n",
    "    def speak(self):\n",
    "        return \"Woof!\"\n",
    "\n",
    "class Cat:\n",
    "    def speak(self):\n",
    "        return \"Meow!\"\n",
    "\n",
    "class Duck:\n",
    "    def speak(self):\n",
    "        return \"Quack!\"\n",
    "\n",
    "def animal_sound(animal):\n",
    "    return animal.speak()\n",
    "\n",
    "# Using duck typing\n",
    "dog = Dog()\n",
    "cat = Cat()\n",
    "duck = Duck()\n",
    "\n",
    "print(animal_sound(dog))  # Output: Woof!\n",
    "print(animal_sound(cat))  # Output: Meow!\n",
    "print(animal_sound(duck)) # Output: Quack!\n"
   ]
  },
  {
   "cell_type": "markdown",
   "id": "0a8850a8-9cd1-4926-87d3-7921ef667d05",
   "metadata": {},
   "source": [
    "# operator overloading "
   ]
  },
  {
   "cell_type": "code",
   "execution_count": 16,
   "id": "539de94f-ced2-46d5-8f56-c38aeeeb630f",
   "metadata": {},
   "outputs": [
    {
     "name": "stdout",
     "output_type": "stream",
     "text": [
      "<class 'int'>\n",
      "11\n"
     ]
    }
   ],
   "source": [
    "a, b = 5, 6\n",
    "\n",
    "print(type(a))\n",
    "print (a+b)"
   ]
  },
  {
   "cell_type": "code",
   "execution_count": 17,
   "id": "fea5da6b-50b7-471b-88a1-d4a9736f6228",
   "metadata": {},
   "outputs": [
    {
     "data": {
      "text/plain": [
       "11"
      ]
     },
     "execution_count": 17,
     "metadata": {},
     "output_type": "execute_result"
    }
   ],
   "source": [
    "int.__add__(5,6)"
   ]
  },
  {
   "cell_type": "code",
   "execution_count": 18,
   "id": "5868cc1d-c2f0-4205-9675-bd5ce025ebde",
   "metadata": {},
   "outputs": [
    {
     "data": {
      "text/plain": [
       "-1"
      ]
     },
     "execution_count": 18,
     "metadata": {},
     "output_type": "execute_result"
    }
   ],
   "source": [
    "int.__sub__(4,5)"
   ]
  },
  {
   "cell_type": "code",
   "execution_count": 19,
   "id": "f1322cbf-e225-4df9-bd75-97dd096fec78",
   "metadata": {},
   "outputs": [
    {
     "data": {
      "text/plain": [
       "20"
      ]
     },
     "execution_count": 19,
     "metadata": {},
     "output_type": "execute_result"
    }
   ],
   "source": [
    "int.__mul__(4,5)"
   ]
  },
  {
   "cell_type": "code",
   "execution_count": 20,
   "id": "4caf1def-0484-4b8f-965e-3285ac6eb53d",
   "metadata": {},
   "outputs": [
    {
     "ename": "TypeError",
     "evalue": "unsupported operand type(s) for +: 'student' and 'student'",
     "output_type": "error",
     "traceback": [
      "\u001b[1;31m---------------------------------------------------------------------------\u001b[0m",
      "\u001b[1;31mTypeError\u001b[0m                                 Traceback (most recent call last)",
      "Cell \u001b[1;32mIn[20], line 10\u001b[0m\n\u001b[0;32m      7\u001b[0m s1 \u001b[38;5;241m=\u001b[39m student(\u001b[38;5;241m60\u001b[39m,\u001b[38;5;241m70\u001b[39m)\n\u001b[0;32m      8\u001b[0m s2 \u001b[38;5;241m=\u001b[39m student(\u001b[38;5;241m80\u001b[39m,\u001b[38;5;241m90\u001b[39m)\n\u001b[1;32m---> 10\u001b[0m s3 \u001b[38;5;241m=\u001b[39m s1 \u001b[38;5;241m+\u001b[39m s2\n",
      "\u001b[1;31mTypeError\u001b[0m: unsupported operand type(s) for +: 'student' and 'student'"
     ]
    }
   ],
   "source": [
    "class student:\n",
    "    def __init__(self,m1,m2):\n",
    "        self.m1 = m1\n",
    "        self.m2 = m2\n",
    "\n",
    "      \n",
    "s1 = student(60,70)\n",
    "s2 = student(80,90)\n",
    "\n",
    "s3 = s1 + s2 # is this possible to use add operator with the class\n"
   ]
  },
  {
   "cell_type": "code",
   "execution_count": 21,
   "id": "f6dd994b-a1b3-4316-99f1-8412f8bbe67b",
   "metadata": {},
   "outputs": [
    {
     "name": "stdout",
     "output_type": "stream",
     "text": [
      "140\n",
      "160\n"
     ]
    }
   ],
   "source": [
    "class student:\n",
    "    def __init__(self,m1,m2):\n",
    "        self.m1 = m1\n",
    "        self.m2 = m2\n",
    "        \n",
    "    def __add__(self, other): ## WE DEFINE THE ADD METHOD . THIS CONCEPT IS CALLED OPERATOR OVERLOADING\n",
    "        m1 = self.m1 + other.m1\n",
    "        m2 = self.m2 + other.m2\n",
    "        s3 = student(m1,m2)\n",
    "        \n",
    "        return s3   \n",
    " \n",
    "s1 = student(60,70)\n",
    "s2 = student(80,90)\n",
    "\n",
    "s3 = s1 + s2 \n",
    "# when we create add method in above behind the memory s1 & s2 will convert to self & other respectivly\n",
    "print(s3.m1)\n",
    "print(s3.m2)\n",
    "\n",
    "# if you want to add 2 student then operator need to overload "
   ]
  },
  {
   "cell_type": "code",
   "execution_count": null,
   "id": "5b4ac273-26ed-4b16-ac9d-72fff3a61d4d",
   "metadata": {},
   "outputs": [],
   "source": []
  }
 ],
 "metadata": {
  "kernelspec": {
   "display_name": "Python 3 (ipykernel)",
   "language": "python",
   "name": "python3"
  },
  "language_info": {
   "codemirror_mode": {
    "name": "ipython",
    "version": 3
   },
   "file_extension": ".py",
   "mimetype": "text/x-python",
   "name": "python",
   "nbconvert_exporter": "python",
   "pygments_lexer": "ipython3",
   "version": "3.12.7"
  }
 },
 "nbformat": 4,
 "nbformat_minor": 5
}

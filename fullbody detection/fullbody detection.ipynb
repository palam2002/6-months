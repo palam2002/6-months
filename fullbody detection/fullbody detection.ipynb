{
 "cells": [
  {
   "cell_type": "code",
   "execution_count": 1,
   "id": "4be1be46",
   "metadata": {},
   "outputs": [
    {
     "name": "stdout",
     "output_type": "stream",
     "text": [
      "Video opened successfully. Starting pedestrian detection...\n",
      "Error: Failed to read frame from video. Exiting...\n"
     ]
    }
   ],
   "source": [
    "import cv2\n",
    "import numpy as np\n",
    "import os\n",
    "\n",
    "# Set the path for the body classifier (Haar Cascade XML)\n",
    "body_classifier_path = '/Users/palammysurareddy/Downloads/haar cascade classifier basic project/Haarcascades/haarcascade_fullbody.xml'\n",
    "\n",
    "# Check if the classifier path exists\n",
    "if not os.path.exists(body_classifier_path):\n",
    "    print(f\"Error: The classifier file does not exist at {body_classifier_path}\")\n",
    "    exit()\n",
    "\n",
    "# Create the body classifier using the provided path\n",
    "body_classifier = cv2.CascadeClassifier(body_classifier_path)\n",
    "\n",
    "# Check if the classifier is loaded successfully\n",
    "if body_classifier.empty():\n",
    "    print(\"Error: Could not load the body classifier. Make sure the XML file is valid and accessible.\")\n",
    "    exit()\n",
    "\n",
    "# Set the path for the video file\n",
    "video_path = '/Users/palammysurareddy/Downloads/mumbai-india-12-january-2015-people-walking-through-the-street-in-mumbai_n1lojrav__23b2073d9f6e576b12aed7ab8a0ac11d__P360.mp4'\n",
    "\n",
    "# Check if the video path exists\n",
    "if not os.path.exists(video_path):\n",
    "    print(f\"Error: The video file does not exist at {video_path}\")\n",
    "    exit()\n",
    "\n",
    "# Open the video file\n",
    "cap = cv2.VideoCapture(video_path)\n",
    "\n",
    "# Check if the video was opened successfully\n",
    "if not cap.isOpened():\n",
    "    print(f\"Error: Could not open video file at {video_path}\")\n",
    "    exit()\n",
    "\n",
    "print(\"Video opened successfully. Starting pedestrian detection...\")\n",
    "\n",
    "while cap.isOpened():\n",
    "    ret, frame = cap.read()\n",
    "\n",
    "    # If frame is not read correctly, exit the loop\n",
    "    if not ret:\n",
    "        print(\"Error: Failed to read frame from video. Exiting...\")\n",
    "        break\n",
    "\n",
    "    # Convert the frame to grayscale for better detection performance\n",
    "    gray = cv2.cvtColor(frame, cv2.COLOR_BGR2GRAY)\n",
    "\n",
    "    # Detect bodies in the grayscale image\n",
    "    bodies = body_classifier.detectMultiScale(gray, scaleFactor=1.2, minNeighbors=3, minSize=(50, 50), flags=cv2.CASCADE_SCALE_IMAGE)\n",
    "\n",
    "    # Draw bounding boxes for detected bodies\n",
    "    for (x, y, w, h) in bodies:\n",
    "        cv2.rectangle(frame, (x, y), (x + w, y + h), (0, 255, 255), 2)\n",
    "\n",
    "    # Display the result with detected bodies\n",
    "    cv2.imshow('Pedestrians', frame)\n",
    "\n",
    "    # Press Enter (13) to exit\n",
    "    if cv2.waitKey(1) == 13:  # 13 corresponds to the Enter key\n",
    "        print(\"Exiting...\")\n",
    "        break\n",
    "\n",
    "# Release the video capture object and close all OpenCV windows\n",
    "cap.release()\n",
    "cv2.destroyAllWindows()\n"
   ]
  }
 ],
 "metadata": {
  "kernelspec": {
   "display_name": "base",
   "language": "python",
   "name": "python3"
  },
  "language_info": {
   "codemirror_mode": {
    "name": "ipython",
    "version": 3
   },
   "file_extension": ".py",
   "mimetype": "text/x-python",
   "name": "python",
   "nbconvert_exporter": "python",
   "pygments_lexer": "ipython3",
   "version": "3.12.2"
  }
 },
 "nbformat": 4,
 "nbformat_minor": 5
}

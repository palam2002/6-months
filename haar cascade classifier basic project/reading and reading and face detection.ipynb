{
 "cells": [
  {
   "cell_type": "code",
   "execution_count": 4,
   "id": "875dc4de",
   "metadata": {},
   "outputs": [],
   "source": [
    "import numpy as np\n",
    "import cv2"
   ]
  },
  {
   "cell_type": "code",
   "execution_count": 5,
   "id": "a87665ac",
   "metadata": {},
   "outputs": [],
   "source": [
    "input = cv2.imread('/Users/palammysurareddy/Downloads/1st  data augumentaton  & transfer learning/2.Data Augumention- DL/dog.jpg')"
   ]
  },
  {
   "cell_type": "code",
   "execution_count": 6,
   "id": "b2f66b26",
   "metadata": {},
   "outputs": [
    {
     "data": {
      "text/plain": [
       "array([[[ 35,  44,  54],\n",
       "        [ 35,  44,  54],\n",
       "        [ 36,  45,  55],\n",
       "        ...,\n",
       "        [ 86, 131, 152],\n",
       "        [ 85, 130, 151],\n",
       "        [ 84, 129, 150]],\n",
       "\n",
       "       [[ 35,  44,  54],\n",
       "        [ 35,  44,  54],\n",
       "        [ 36,  45,  55],\n",
       "        ...,\n",
       "        [ 86, 131, 152],\n",
       "        [ 85, 130, 151],\n",
       "        [ 84, 129, 150]],\n",
       "\n",
       "       [[ 35,  44,  54],\n",
       "        [ 35,  44,  54],\n",
       "        [ 36,  45,  55],\n",
       "        ...,\n",
       "        [ 86, 131, 152],\n",
       "        [ 85, 130, 151],\n",
       "        [ 84, 129, 150]],\n",
       "\n",
       "       ...,\n",
       "\n",
       "       [[  0,  66,  55],\n",
       "        [ 17,  88,  85],\n",
       "        [ 46, 122, 121],\n",
       "        ...,\n",
       "        [  5,  43,  31],\n",
       "        [  0,  38,  21],\n",
       "        [  0,  47,  25]],\n",
       "\n",
       "       [[  3,  74,  71],\n",
       "        [ 16,  87,  90],\n",
       "        [ 33, 107, 113],\n",
       "        ...,\n",
       "        [  7,  51,  34],\n",
       "        [  2,  48,  25],\n",
       "        [  0,  40,  12]],\n",
       "\n",
       "       [[ 14,  85,  89],\n",
       "        [ 13,  83,  96],\n",
       "        [ 13,  84,  98],\n",
       "        ...,\n",
       "        [ 18,  65,  43],\n",
       "        [  0,  42,  15],\n",
       "        [  0,  44,  12]]], dtype=uint8)"
      ]
     },
     "execution_count": 6,
     "metadata": {},
     "output_type": "execute_result"
    }
   ],
   "source": [
    "input"
   ]
  },
  {
   "cell_type": "code",
   "execution_count": 7,
   "id": "20d766e3",
   "metadata": {},
   "outputs": [
    {
     "ename": "AttributeError",
     "evalue": "module 'cv2' has no attribute 'waitKeyaitKey'",
     "output_type": "error",
     "traceback": [
      "\u001b[0;31m---------------------------------------------------------------------------\u001b[0m",
      "\u001b[0;31mAttributeError\u001b[0m                            Traceback (most recent call last)",
      "Cell \u001b[0;32mIn[7], line 2\u001b[0m\n\u001b[1;32m      1\u001b[0m cv2\u001b[38;5;241m.\u001b[39mimshow(\u001b[38;5;124m'\u001b[39m\u001b[38;5;124mdog\u001b[39m\u001b[38;5;124m'\u001b[39m, \u001b[38;5;28minput\u001b[39m)\n\u001b[0;32m----> 2\u001b[0m cv2\u001b[38;5;241m.\u001b[39mwaitKeyaitKey()\n\u001b[1;32m      3\u001b[0m cv2\u001b[38;5;241m.\u001b[39mdestroyAllWindows()\n",
      "\u001b[0;31mAttributeError\u001b[0m: module 'cv2' has no attribute 'waitKeyaitKey'"
     ]
    }
   ],
   "source": [
    "cv2.imshow('dog', input)\n",
    "cv2.waitKeyaitKey()\n",
    "cv2.destroyAllWindows()"
   ]
  },
  {
   "cell_type": "code",
   "execution_count": 8,
   "id": "8a50b780",
   "metadata": {},
   "outputs": [
    {
     "name": "stdout",
     "output_type": "stream",
     "text": [
      "Height of Image: 768 pixels\n",
      "Width of Image:  1024 pixels\n"
     ]
    }
   ],
   "source": [
    "print('Height of Image:', int(input.shape[0]), 'pixels')\n",
    "print('Width of Image: ', int(input.shape[1]), 'pixels')"
   ]
  },
  {
   "cell_type": "code",
   "execution_count": 9,
   "id": "32d6ecb2",
   "metadata": {},
   "outputs": [
    {
     "data": {
      "text/plain": [
       "True"
      ]
     },
     "execution_count": 9,
     "metadata": {},
     "output_type": "execute_result"
    }
   ],
   "source": [
    "cv2.imwrite('output.jpg', input)\n",
    "cv2.imwrite('output.png', input)"
   ]
  },
  {
   "cell_type": "code",
   "execution_count": null,
   "id": "9865bdee",
   "metadata": {},
   "outputs": [],
   "source": [
    "import numpy as np\n",
    "import cv2\n",
    "\n",
    "# Load the Haar Cascade for face detection\n",
    "face_classifier = cv2.CascadeClassifier('/Users/palammysurareddy/Downloads/haar cascade classifier basic project/Haarcascades/haarcascade_frontalface_default.xml')\n",
    "\n",
    "# Load the image\n",
    "image = cv2.imread('/Users/palammysurareddy/Downloads/WhatsApp Image 2025-09-02 at 18.26.39.jpeg')\n",
    "#image = cv2.imread(r'C:\\Users\\A3MAX SOFTWARE TECH\\Desktop\\WORK\\2. DATASCIENCE PROJECT\\10. Computer vision\\Computer-Vision-Tutorial-master\\Computer-Vision-Tutorial-master\\image_examples\\5.jpg')\n",
    "\n",
    "# Check if the image is loaded correctly\n",
    "if image is None:\n",
    "    print(\"Error: Image not found or cannot be loaded!\")\n",
    "    exit()  # Exit if image is not loaded\n",
    "\n",
    "# Convert the image to grayscale\n",
    "gray = cv2.cvtColor(image, cv2.COLOR_BGR2GRAY)\n",
    "\n",
    "# Detect faces in the image\n",
    "faces = face_classifier.detectMultiScale(gray, 1.3, 5)\n",
    "\n",
    "# Check if faces are detected\n",
    "if len(faces) == 0:\n",
    "    print(\"No faces found!\")\n",
    "else:\n",
    "    # Draw rectangles around the faces\n",
    "    for (x, y, w, h) in faces:  # (x, y) is the top-left corner, and (w, h) is the width and height of the face\n",
    "        cv2.rectangle(image, (x, y), (x + w, y + h), (127, 0, 255), 2)\n",
    "\n",
    "    # Display the output image\n",
    "    cv2.imshow('Face Detection', image)\n",
    "    cv2.waitKey(0)  # Wait for a key press to close the window\n",
    "\n",
    "# Close all OpenCV windows\n",
    "cv2.destroyAllWindows()"
   ]
  },
  {
   "cell_type": "code",
   "execution_count": null,
   "id": "ec153527",
   "metadata": {},
   "outputs": [],
   "source": []
  },
  {
   "cell_type": "code",
   "execution_count": null,
   "id": "f61890d0",
   "metadata": {},
   "outputs": [],
   "source": []
  },
  {
   "cell_type": "code",
   "execution_count": null,
   "id": "2a799274",
   "metadata": {},
   "outputs": [],
   "source": []
  },
  {
   "cell_type": "code",
   "execution_count": null,
   "id": "402556e4",
   "metadata": {},
   "outputs": [],
   "source": []
  },
  {
   "cell_type": "code",
   "execution_count": null,
   "id": "f44bf9e7",
   "metadata": {},
   "outputs": [],
   "source": []
  },
  {
   "cell_type": "code",
   "execution_count": null,
   "id": "8738abd8",
   "metadata": {},
   "outputs": [],
   "source": []
  },
  {
   "cell_type": "code",
   "execution_count": null,
   "id": "59ce65ce",
   "metadata": {},
   "outputs": [],
   "source": []
  }
 ],
 "metadata": {
  "kernelspec": {
   "display_name": "base",
   "language": "python",
   "name": "python3"
  },
  "language_info": {
   "codemirror_mode": {
    "name": "ipython",
    "version": 3
   },
   "file_extension": ".py",
   "mimetype": "text/x-python",
   "name": "python",
   "nbconvert_exporter": "python",
   "pygments_lexer": "ipython3",
   "version": "3.12.2"
  }
 },
 "nbformat": 4,
 "nbformat_minor": 5
}
